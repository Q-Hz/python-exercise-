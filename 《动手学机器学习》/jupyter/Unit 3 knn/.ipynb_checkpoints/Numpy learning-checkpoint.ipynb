{
 "cells": [
  {
   "cell_type": "markdown",
   "id": "299b2f63",
   "metadata": {},
   "source": [
    "# 数组的构造"
   ]
  },
  {
   "cell_type": "markdown",
   "id": "9e7a5cb1",
   "metadata": {},
   "source": [
    "### 查看当前版本"
   ]
  },
  {
   "cell_type": "code",
   "execution_count": 8,
   "id": "9927546c",
   "metadata": {},
   "outputs": [
    {
     "data": {
      "text/plain": [
       "'1.24.3'"
      ]
     },
     "execution_count": 8,
     "metadata": {},
     "output_type": "execute_result"
    }
   ],
   "source": [
    "import numpy as np\n",
    "np.__version__\n"
   ]
  },
  {
   "cell_type": "markdown",
   "id": "857eca50",
   "metadata": {},
   "source": [
    "### 构建元素全为1的数组"
   ]
  },
  {
   "cell_type": "code",
   "execution_count": 11,
   "id": "6308b513",
   "metadata": {},
   "outputs": [
    {
     "data": {
      "text/plain": [
       "array([[1, 1, 1],\n",
       "       [1, 1, 1],\n",
       "       [1, 1, 1],\n",
       "       [1, 1, 1],\n",
       "       [1, 1, 1]], dtype=int16)"
      ]
     },
     "execution_count": 11,
     "metadata": {},
     "output_type": "execute_result"
    }
   ],
   "source": [
    "np.ones(shape=(5,3), dtype=np.int8)"
   ]
  },
  {
   "cell_type": "code",
   "execution_count": 13,
   "id": "36dbb3aa",
   "metadata": {},
   "outputs": [
    {
     "data": {
      "text/plain": [
       "array([1, 1, 1], dtype=int8)"
      ]
     },
     "execution_count": 13,
     "metadata": {},
     "output_type": "execute_result"
    }
   ],
   "source": [
    "np.ones(shape=(3), dtype=np.int8)"
   ]
  },
  {
   "cell_type": "markdown",
   "id": "4e9d0e48",
   "metadata": {},
   "source": [
    "### 构建元素全为0的数组"
   ]
  },
  {
   "cell_type": "code",
   "execution_count": 14,
   "id": "2f1d2c11",
   "metadata": {},
   "outputs": [
    {
     "data": {
      "text/plain": [
       "array([[[0, 0, 0, 0],\n",
       "        [0, 0, 0, 0],\n",
       "        [0, 0, 0, 0]],\n",
       "\n",
       "       [[0, 0, 0, 0],\n",
       "        [0, 0, 0, 0],\n",
       "        [0, 0, 0, 0]]], dtype=int8)"
      ]
     },
     "execution_count": 14,
     "metadata": {},
     "output_type": "execute_result"
    }
   ],
   "source": [
    "np.zeros(shape=(2,3,4),dtype=np.int8)"
   ]
  },
  {
   "cell_type": "markdown",
   "id": "062ddb2c",
   "metadata": {},
   "source": [
    "### 构建元素全为相同的数的数组"
   ]
  },
  {
   "cell_type": "code",
   "execution_count": 15,
   "id": "b215ac5b",
   "metadata": {},
   "outputs": [
    {
     "data": {
      "text/plain": [
       "array([[6, 6, 6],\n",
       "       [6, 6, 6]], dtype=int8)"
      ]
     },
     "execution_count": 15,
     "metadata": {},
     "output_type": "execute_result"
    }
   ],
   "source": [
    "np.full(shape=(2,3), fill_value=6, dtype=np.int8)"
   ]
  },
  {
   "cell_type": "markdown",
   "id": "d4029286",
   "metadata": {},
   "source": [
    "### 构建单位矩阵"
   ]
  },
  {
   "cell_type": "code",
   "execution_count": 16,
   "id": "7e44f09c",
   "metadata": {},
   "outputs": [
    {
     "data": {
      "text/plain": [
       "array([[1., 0., 0., 0., 0.],\n",
       "       [0., 1., 0., 0., 0.],\n",
       "       [0., 0., 1., 0., 0.],\n",
       "       [0., 0., 0., 1., 0.],\n",
       "       [0., 0., 0., 0., 1.]])"
      ]
     },
     "execution_count": 16,
     "metadata": {},
     "output_type": "execute_result"
    }
   ],
   "source": [
    "np.eye(N=5)"
   ]
  },
  {
   "cell_type": "code",
   "execution_count": 17,
   "id": "018c4590",
   "metadata": {},
   "outputs": [
    {
     "data": {
      "text/plain": [
       "array([[1., 0., 0., 0.],\n",
       "       [0., 1., 0., 0.],\n",
       "       [0., 0., 1., 0.],\n",
       "       [0., 0., 0., 1.],\n",
       "       [0., 0., 0., 0.]])"
      ]
     },
     "execution_count": 17,
     "metadata": {},
     "output_type": "execute_result"
    }
   ],
   "source": [
    "np.eye(N=5, M=4)"
   ]
  },
  {
   "cell_type": "code",
   "execution_count": 20,
   "id": "2a6584e0",
   "metadata": {},
   "outputs": [
    {
     "data": {
      "text/plain": [
       "array([ 1,  2,  3,  4,  5,  6,  7,  8,  9, 10], dtype=int8)"
      ]
     },
     "execution_count": 20,
     "metadata": {},
     "output_type": "execute_result"
    }
   ],
   "source": [
    "np.linspace(1,10,10, dtype=np.int8)"
   ]
  },
  {
   "cell_type": "code",
   "execution_count": 21,
   "id": "6736be29",
   "metadata": {},
   "outputs": [
    {
     "data": {
      "text/plain": [
       "array([0, 1, 2, 3, 4, 5, 6, 7, 8, 9])"
      ]
     },
     "execution_count": 21,
     "metadata": {},
     "output_type": "execute_result"
    }
   ],
   "source": [
    "np.arange(0,10,step=1)"
   ]
  },
  {
   "cell_type": "markdown",
   "id": "165290bf",
   "metadata": {},
   "source": [
    "## 特殊的数组"
   ]
  },
  {
   "cell_type": "code",
   "execution_count": 23,
   "id": "68c8be8e",
   "metadata": {},
   "outputs": [
    {
     "data": {
      "text/plain": [
       "array([[7, 6, 3, 3, 2],\n",
       "       [5, 7, 1, 2, 3],\n",
       "       [4, 2, 8, 6, 1],\n",
       "       [5, 6, 6, 6, 4],\n",
       "       [8, 8, 6, 8, 9]])"
      ]
     },
     "execution_count": 23,
     "metadata": {},
     "output_type": "execute_result"
    }
   ],
   "source": [
    "# 生成随机整数\n",
    "np.random.randint(1,10,size=(5,5))"
   ]
  },
  {
   "cell_type": "markdown",
   "id": "d4eb242c",
   "metadata": {},
   "source": [
    "###  生成一个正态分布的数组"
   ]
  },
  {
   "cell_type": "code",
   "execution_count": 32,
   "id": "a551e7cf",
   "metadata": {},
   "outputs": [
    {
     "data": {
      "text/plain": [
       "array([-0.17612266,  0.8709078 , -1.4645664 ])"
      ]
     },
     "execution_count": 32,
     "metadata": {},
     "output_type": "execute_result"
    }
   ],
   "source": [
    "# 标准正态分布\n",
    "np.random.randn(3)  \n"
   ]
  },
  {
   "cell_type": "code",
   "execution_count": 33,
   "id": "a1e4266b",
   "metadata": {},
   "outputs": [
    {
     "data": {
      "text/plain": [
       "array([[ 0.11366381, -0.38725968,  0.74767238,  0.41596281],\n",
       "       [ 0.7198961 ,  0.37038853, -0.61730522, -0.91732098],\n",
       "       [ 0.9676955 ,  2.42385166, -2.16304433, -0.78135851]])"
      ]
     },
     "execution_count": 33,
     "metadata": {},
     "output_type": "execute_result"
    }
   ],
   "source": [
    "np.random.randn(3,4)"
   ]
  },
  {
   "cell_type": "code",
   "execution_count": 34,
   "id": "81a94463",
   "metadata": {},
   "outputs": [
    {
     "data": {
      "text/plain": [
       "array([[-0.72628816,  1.54968647, -0.21419197],\n",
       "       [ 0.5671304 ,  0.87509168,  2.88824101],\n",
       "       [ 1.70951595,  1.47236999,  2.71141543],\n",
       "       [ 1.2939049 , -0.26399004,  2.65476334],\n",
       "       [ 1.65978412,  0.48333296,  0.0618108 ]])"
      ]
     },
     "execution_count": 34,
     "metadata": {},
     "output_type": "execute_result"
    }
   ],
   "source": [
    " # 普通正态分布\n",
    "np.random.normal(loc=1,scale=1,size=(5,3))"
   ]
  },
  {
   "cell_type": "markdown",
   "id": "7fe72b9d",
   "metadata": {},
   "source": [
    "## 随机数"
   ]
  },
  {
   "cell_type": "code",
   "execution_count": 35,
   "id": "87296593",
   "metadata": {},
   "outputs": [
    {
     "data": {
      "text/plain": [
       "array([[0.82406982, 0.4060189 , 0.5896985 ],\n",
       "       [0.78712144, 0.2732411 , 0.39318951],\n",
       "       [0.50722752, 0.46526529, 0.30301473],\n",
       "       [0.11791349, 0.06382569, 0.66840177],\n",
       "       [0.0786069 , 0.29606413, 0.73407162]])"
      ]
     },
     "execution_count": 35,
     "metadata": {},
     "output_type": "execute_result"
    }
   ],
   "source": [
    "np.random.random(size=(5,3)) # 生成0，1 的随机数（左闭右开）"
   ]
  },
  {
   "cell_type": "code",
   "execution_count": 36,
   "id": "9a4c2d08",
   "metadata": {},
   "outputs": [
    {
     "data": {
      "text/plain": [
       "array([4, 7, 0, 3, 9, 8, 6, 2, 1, 5])"
      ]
     },
     "execution_count": 36,
     "metadata": {},
     "output_type": "execute_result"
    }
   ],
   "source": [
    "np.random.permutation(10) # 生成一组随机索引"
   ]
  },
  {
   "cell_type": "markdown",
   "id": "3419a38f",
   "metadata": {},
   "source": [
    "# 数组的几个属性"
   ]
  },
  {
   "cell_type": "code",
   "execution_count": 44,
   "id": "076ee14d",
   "metadata": {},
   "outputs": [
    {
     "data": {
      "text/plain": [
       "2"
      ]
     },
     "execution_count": 44,
     "metadata": {},
     "output_type": "execute_result"
    }
   ],
   "source": [
    "\n",
    "\n",
    "# nidm维度\n",
    "arr = np.random.randint(0,10,size=(3,4))\n",
    "arr.ndim\n"
   ]
  },
  {
   "cell_type": "code",
   "execution_count": 45,
   "id": "e28f4dac",
   "metadata": {},
   "outputs": [
    {
     "data": {
      "text/plain": [
       "(3, 4)"
      ]
     },
     "execution_count": 45,
     "metadata": {},
     "output_type": "execute_result"
    }
   ],
   "source": [
    "# shape形状\n",
    "arr.shape"
   ]
  },
  {
   "cell_type": "code",
   "execution_count": 47,
   "id": "45e10c12",
   "metadata": {},
   "outputs": [
    {
     "data": {
      "text/plain": [
       "12"
      ]
     },
     "execution_count": 47,
     "metadata": {},
     "output_type": "execute_result"
    }
   ],
   "source": [
    "# size 长度\n",
    "arr.size"
   ]
  },
  {
   "cell_type": "code",
   "execution_count": 48,
   "id": "45bea1b2",
   "metadata": {},
   "outputs": [
    {
     "data": {
      "text/plain": [
       "dtype('int32')"
      ]
     },
     "execution_count": 48,
     "metadata": {},
     "output_type": "execute_result"
    }
   ],
   "source": [
    "# 元素的类型\n",
    "arr.dtype"
   ]
  },
  {
   "cell_type": "markdown",
   "id": "8fd689e0",
   "metadata": {},
   "source": [
    "# 数组的索引和切片"
   ]
  },
  {
   "cell_type": "markdown",
   "id": "0a585287",
   "metadata": {},
   "source": [
    "## 索引"
   ]
  },
  {
   "cell_type": "code",
   "execution_count": 59,
   "id": "bdc65ad8",
   "metadata": {},
   "outputs": [
    {
     "name": "stdout",
     "output_type": "stream",
     "text": [
      "[1 2 3 4 5 6 7 8 9]\n",
      "[1 2 3]\n"
     ]
    }
   ],
   "source": [
    "# 1. 使用列表作为索引访问\n",
    "arr_1 = np.arange(1,10,step=1)\n",
    "print(arr_1)\n",
    "arr = arr_1[[0,1,2]]\n",
    "print(arr)"
   ]
  },
  {
   "cell_type": "code",
   "execution_count": 62,
   "id": "e54741d4",
   "metadata": {},
   "outputs": [
    {
     "name": "stdout",
     "output_type": "stream",
     "text": [
      "[1 3 5 7]\n"
     ]
    }
   ],
   "source": [
    "# 2.使用bool列表作为索引访问\n",
    "bool_list=[True, False, True, False,True, False, True, False,False]\n",
    "arr_2 = arr_1[bool_list]\n",
    "print(arr_2)"
   ]
  },
  {
   "cell_type": "code",
   "execution_count": 68,
   "id": "1679cebf",
   "metadata": {},
   "outputs": [
    {
     "data": {
      "text/plain": [
       "array([4, 5, 6, 7, 8, 9])"
      ]
     },
     "execution_count": 68,
     "metadata": {},
     "output_type": "execute_result"
    }
   ],
   "source": [
    "# or\n",
    "arr_1[arr_1>3]"
   ]
  },
  {
   "cell_type": "code",
   "execution_count": 72,
   "id": "9e181f5d",
   "metadata": {},
   "outputs": [
    {
     "data": {
      "text/plain": [
       "array([[[4, 7, 4, 3, 9],\n",
       "        [5, 8, 4, 3, 0],\n",
       "        [9, 6, 5, 9, 9],\n",
       "        [4, 2, 1, 8, 8]],\n",
       "\n",
       "       [[7, 4, 4, 8, 5],\n",
       "        [5, 8, 5, 0, 0],\n",
       "        [0, 3, 1, 6, 0],\n",
       "        [5, 5, 6, 2, 6]],\n",
       "\n",
       "       [[3, 7, 9, 8, 0],\n",
       "        [7, 6, 9, 0, 5],\n",
       "        [4, 4, 4, 2, 6],\n",
       "        [2, 3, 7, 1, 6]]])"
      ]
     },
     "execution_count": 72,
     "metadata": {},
     "output_type": "execute_result"
    }
   ],
   "source": [
    "# 3.高维数组索引\n",
    "arr_4 = np.random.randint(0,10,size=(3,4,5))\n",
    "arr_4"
   ]
  },
  {
   "cell_type": "code",
   "execution_count": 73,
   "id": "9ec5ad03",
   "metadata": {},
   "outputs": [
    {
     "data": {
      "text/plain": [
       "array([[4, 7, 4, 3, 9],\n",
       "       [5, 8, 4, 3, 0],\n",
       "       [9, 6, 5, 9, 9],\n",
       "       [4, 2, 1, 8, 8]])"
      ]
     },
     "execution_count": 73,
     "metadata": {},
     "output_type": "execute_result"
    }
   ],
   "source": [
    "arr_4[0]"
   ]
  },
  {
   "cell_type": "code",
   "execution_count": 74,
   "id": "a737bd68",
   "metadata": {},
   "outputs": [
    {
     "data": {
      "text/plain": [
       "array([5, 8, 4, 3, 0])"
      ]
     },
     "execution_count": 74,
     "metadata": {},
     "output_type": "execute_result"
    }
   ],
   "source": [
    "arr_4[0,1]"
   ]
  },
  {
   "cell_type": "code",
   "execution_count": 75,
   "id": "3c6d7c1c",
   "metadata": {},
   "outputs": [
    {
     "data": {
      "text/plain": [
       "8"
      ]
     },
     "execution_count": 75,
     "metadata": {},
     "output_type": "execute_result"
    }
   ],
   "source": [
    "arr_4[0,1,1]"
   ]
  },
  {
   "cell_type": "markdown",
   "id": "74ea0dc3",
   "metadata": {},
   "source": [
    "## 切片 (左闭右开)"
   ]
  },
  {
   "cell_type": "code",
   "execution_count": 2,
   "id": "5524d775",
   "metadata": {},
   "outputs": [],
   "source": [
    "import numpy as np"
   ]
  },
  {
   "cell_type": "code",
   "execution_count": 3,
   "id": "0a3c09c0",
   "metadata": {
    "scrolled": true
   },
   "outputs": [
    {
     "data": {
      "text/plain": [
       "array([[7, 7, 1, 0, 3],\n",
       "       [5, 7, 5, 9, 7],\n",
       "       [9, 7, 7, 0, 5],\n",
       "       [8, 0, 9, 7, 1]])"
      ]
     },
     "execution_count": 3,
     "metadata": {},
     "output_type": "execute_result"
    }
   ],
   "source": [
    "arr = np.random.randint(0,10,size=(4,5))\n",
    "arr"
   ]
  },
  {
   "cell_type": "code",
   "execution_count": 4,
   "id": "2e75301b",
   "metadata": {},
   "outputs": [
    {
     "data": {
      "text/plain": [
       "array([[7, 7, 1, 0, 3],\n",
       "       [5, 7, 5, 9, 7]])"
      ]
     },
     "execution_count": 4,
     "metadata": {},
     "output_type": "execute_result"
    }
   ],
   "source": [
    "# 行切片\n",
    "arr[:2]"
   ]
  },
  {
   "cell_type": "code",
   "execution_count": 5,
   "id": "f81be91e",
   "metadata": {},
   "outputs": [
    {
     "data": {
      "text/plain": [
       "array([[7, 7],\n",
       "       [5, 7],\n",
       "       [9, 7],\n",
       "       [8, 0]])"
      ]
     },
     "execution_count": 5,
     "metadata": {},
     "output_type": "execute_result"
    }
   ],
   "source": [
    "# 列切片\n",
    "arr[:,:2]"
   ]
  },
  {
   "cell_type": "markdown",
   "id": "75db4976",
   "metadata": {},
   "source": [
    "### 倒序"
   ]
  },
  {
   "cell_type": "code",
   "execution_count": 7,
   "id": "94ecede1",
   "metadata": {},
   "outputs": [
    {
     "data": {
      "text/plain": [
       "array([[7, 7, 1, 0, 3],\n",
       "       [5, 7, 5, 9, 7],\n",
       "       [9, 7, 7, 0, 5],\n",
       "       [8, 0, 9, 7, 1]])"
      ]
     },
     "execution_count": 7,
     "metadata": {},
     "output_type": "execute_result"
    }
   ],
   "source": [
    "arr"
   ]
  },
  {
   "cell_type": "code",
   "execution_count": 8,
   "id": "3ee0ff4b",
   "metadata": {},
   "outputs": [
    {
     "data": {
      "text/plain": [
       "array([[8, 0, 9, 7, 1],\n",
       "       [9, 7, 7, 0, 5],\n",
       "       [5, 7, 5, 9, 7],\n",
       "       [7, 7, 1, 0, 3]])"
      ]
     },
     "execution_count": 8,
     "metadata": {},
     "output_type": "execute_result"
    }
   ],
   "source": [
    "arr[::-1] # 行倒序"
   ]
  },
  {
   "cell_type": "code",
   "execution_count": 9,
   "id": "ceda44af",
   "metadata": {},
   "outputs": [
    {
     "data": {
      "text/plain": [
       "array([[3, 0, 1, 7, 7],\n",
       "       [7, 9, 5, 7, 5],\n",
       "       [5, 0, 7, 7, 9],\n",
       "       [1, 7, 9, 0, 8]])"
      ]
     },
     "execution_count": 9,
     "metadata": {},
     "output_type": "execute_result"
    }
   ],
   "source": [
    "arr[:,::-1] # 列倒序"
   ]
  },
  {
   "cell_type": "markdown",
   "id": "2087a05c",
   "metadata": {},
   "source": [
    " ### 变形"
   ]
  },
  {
   "cell_type": "code",
   "execution_count": 10,
   "id": "a2bb09aa",
   "metadata": {},
   "outputs": [
    {
     "data": {
      "text/plain": [
       "array([[7, 7, 1, 0],\n",
       "       [3, 5, 7, 5],\n",
       "       [9, 7, 9, 7],\n",
       "       [7, 0, 5, 8],\n",
       "       [0, 9, 7, 1]])"
      ]
     },
     "execution_count": 10,
     "metadata": {},
     "output_type": "execute_result"
    }
   ],
   "source": [
    "arr.reshape((5,4))"
   ]
  },
  {
   "cell_type": "markdown",
   "id": "6819e1e7",
   "metadata": {},
   "source": [
    "### 级联"
   ]
  },
  {
   "cell_type": "code",
   "execution_count": 16,
   "id": "e38e9ce8",
   "metadata": {},
   "outputs": [
    {
     "data": {
      "text/plain": [
       "(array([[9, 2, 5, 9],\n",
       "        [3, 8, 7, 9],\n",
       "        [2, 7, 2, 5]]),\n",
       " array([[10, 16, 18, 12],\n",
       "        [11, 17, 13, 11],\n",
       "        [17, 11, 13, 17]]))"
      ]
     },
     "execution_count": 16,
     "metadata": {},
     "output_type": "execute_result"
    }
   ],
   "source": [
    "arr_1 = np.random.randint(1,10,size=(3,4))\n",
    "arr_2 = np.random.randint(10,20,size=(3,4))\n",
    "arr_1, arr_2"
   ]
  },
  {
   "cell_type": "code",
   "execution_count": 18,
   "id": "ecdb3633",
   "metadata": {},
   "outputs": [
    {
     "data": {
      "text/plain": [
       "array([[9, 2, 5, 9],\n",
       "       [3, 8, 7, 9],\n",
       "       [2, 7, 2, 5]])"
      ]
     },
     "metadata": {},
     "output_type": "display_data"
    },
    {
     "data": {
      "text/plain": [
       "array([[10, 16, 18, 12],\n",
       "       [11, 17, 13, 11],\n",
       "       [17, 11, 13, 17]])"
      ]
     },
     "metadata": {},
     "output_type": "display_data"
    }
   ],
   "source": [
    "display(arr_1,arr_2)"
   ]
  },
  {
   "cell_type": "code",
   "execution_count": 20,
   "id": "9a6fb3ed",
   "metadata": {},
   "outputs": [
    {
     "data": {
      "text/plain": [
       "array([[ 9,  2,  5,  9],\n",
       "       [ 3,  8,  7,  9],\n",
       "       [ 2,  7,  2,  5],\n",
       "       [10, 16, 18, 12],\n",
       "       [11, 17, 13, 11],\n",
       "       [17, 11, 13, 17]])"
      ]
     },
     "execution_count": 20,
     "metadata": {},
     "output_type": "execute_result"
    }
   ],
   "source": [
    "# 方式一\n",
    "np.concatenate((arr_1,arr_2), axis=0)"
   ]
  },
  {
   "cell_type": "code",
   "execution_count": 21,
   "id": "f45aaedd",
   "metadata": {},
   "outputs": [
    {
     "data": {
      "text/plain": [
       "array([[ 9,  2,  5,  9, 10, 16, 18, 12],\n",
       "       [ 3,  8,  7,  9, 11, 17, 13, 11],\n",
       "       [ 2,  7,  2,  5, 17, 11, 13, 17]])"
      ]
     },
     "execution_count": 21,
     "metadata": {},
     "output_type": "execute_result"
    }
   ],
   "source": [
    "np.concatenate((arr_1,arr_2),axis=1)"
   ]
  },
  {
   "cell_type": "code",
   "execution_count": 23,
   "id": "49b53f02",
   "metadata": {},
   "outputs": [
    {
     "data": {
      "text/plain": [
       "array([[ 9,  2,  5,  9, 10, 16, 18, 12],\n",
       "       [ 3,  8,  7,  9, 11, 17, 13, 11],\n",
       "       [ 2,  7,  2,  5, 17, 11, 13, 17]])"
      ]
     },
     "execution_count": 23,
     "metadata": {},
     "output_type": "execute_result"
    }
   ],
   "source": [
    "# 方式二\n",
    "np.hstack((arr_1,arr_2))"
   ]
  },
  {
   "cell_type": "code",
   "execution_count": 24,
   "id": "fdbe5a49",
   "metadata": {},
   "outputs": [
    {
     "data": {
      "text/plain": [
       "array([[ 9,  2,  5,  9],\n",
       "       [ 3,  8,  7,  9],\n",
       "       [ 2,  7,  2,  5],\n",
       "       [10, 16, 18, 12],\n",
       "       [11, 17, 13, 11],\n",
       "       [17, 11, 13, 17]])"
      ]
     },
     "execution_count": 24,
     "metadata": {},
     "output_type": "execute_result"
    }
   ],
   "source": [
    "np.vstack((arr_1,arr_2))"
   ]
  },
  {
   "cell_type": "markdown",
   "id": "4c8d7a59",
   "metadata": {},
   "source": [
    "### 切分\n",
    "np.split\n",
    "np.hsplit\n",
    "np.vsplit"
   ]
  },
  {
   "cell_type": "code",
   "execution_count": 34,
   "id": "bb62e4f8",
   "metadata": {},
   "outputs": [
    {
     "data": {
      "text/plain": [
       "array([[3, 8, 4, 9, 8, 6],\n",
       "       [3, 8, 6, 8, 6, 7],\n",
       "       [8, 8, 1, 8, 7, 4],\n",
       "       [8, 6, 8, 2, 5, 6]])"
      ]
     },
     "execution_count": 34,
     "metadata": {},
     "output_type": "execute_result"
    }
   ],
   "source": [
    "arr_1 = np.random.randint(1,10,size=(4,6))\n",
    "arr_1\n"
   ]
  },
  {
   "cell_type": "markdown",
   "id": "c0aa3738",
   "metadata": {},
   "source": [
    "split"
   ]
  },
  {
   "cell_type": "code",
   "execution_count": 35,
   "id": "679b4584",
   "metadata": {},
   "outputs": [
    {
     "data": {
      "text/plain": [
       "array([[3, 8, 4, 9, 8, 6],\n",
       "       [3, 8, 6, 8, 6, 7]])"
      ]
     },
     "metadata": {},
     "output_type": "display_data"
    },
    {
     "data": {
      "text/plain": [
       "array([[8, 8, 1, 8, 7, 4],\n",
       "       [8, 6, 8, 2, 5, 6]])"
      ]
     },
     "metadata": {},
     "output_type": "display_data"
    }
   ],
   "source": [
    "arr1,arr2 = np.split(arr_1,indices_or_sections=2,axis=0)  # indices_or_sections为要切的份数\n",
    "display(arr1,arr2)"
   ]
  },
  {
   "cell_type": "code",
   "execution_count": 45,
   "id": "ef77d563",
   "metadata": {},
   "outputs": [
    {
     "data": {
      "text/plain": [
       "array([[3],\n",
       "       [3],\n",
       "       [8],\n",
       "       [8]])"
      ]
     },
     "metadata": {},
     "output_type": "display_data"
    },
    {
     "data": {
      "text/plain": [
       "array([[8],\n",
       "       [8],\n",
       "       [8],\n",
       "       [6]])"
      ]
     },
     "metadata": {},
     "output_type": "display_data"
    },
    {
     "data": {
      "text/plain": [
       "array([[4, 9, 8, 6],\n",
       "       [6, 8, 6, 7],\n",
       "       [1, 8, 7, 4],\n",
       "       [8, 2, 5, 6]])"
      ]
     },
     "metadata": {},
     "output_type": "display_data"
    }
   ],
   "source": [
    "arr1,arr2,arr3 = np.split(arr_1,indices_or_sections=[1,2],axis=1)\n",
    "display(arr1,arr2,arr_3)"
   ]
  },
  {
   "cell_type": "markdown",
   "id": "104e9b0b",
   "metadata": {},
   "source": [
    "hsplit"
   ]
  },
  {
   "cell_type": "code",
   "execution_count": 47,
   "id": "bc9fb2a9",
   "metadata": {},
   "outputs": [
    {
     "data": {
      "text/plain": [
       "array([[3],\n",
       "       [3],\n",
       "       [8],\n",
       "       [8]])"
      ]
     },
     "metadata": {},
     "output_type": "display_data"
    },
    {
     "data": {
      "text/plain": [
       "array([[8],\n",
       "       [8],\n",
       "       [8],\n",
       "       [6]])"
      ]
     },
     "metadata": {},
     "output_type": "display_data"
    },
    {
     "data": {
      "text/plain": [
       "array([[4, 9, 8, 6],\n",
       "       [6, 8, 6, 7],\n",
       "       [1, 8, 7, 4],\n",
       "       [8, 2, 5, 6]])"
      ]
     },
     "metadata": {},
     "output_type": "display_data"
    }
   ],
   "source": [
    "arr1,arr2,arr3 = np.hsplit(arr_1,indices_or_sections=[1,2])\n",
    "display(arr1,arr2,arr3)"
   ]
  },
  {
   "cell_type": "code",
   "execution_count": 48,
   "id": "2eca44f7",
   "metadata": {},
   "outputs": [
    {
     "data": {
      "text/plain": [
       "array([[3, 8, 4, 9, 8, 6]])"
      ]
     },
     "metadata": {},
     "output_type": "display_data"
    },
    {
     "data": {
      "text/plain": [
       "array([[3, 8, 6, 8, 6, 7],\n",
       "       [8, 8, 1, 8, 7, 4]])"
      ]
     },
     "metadata": {},
     "output_type": "display_data"
    },
    {
     "data": {
      "text/plain": [
       "array([[8, 6, 8, 2, 5, 6]])"
      ]
     },
     "metadata": {},
     "output_type": "display_data"
    }
   ],
   "source": [
    "arr1,arr2,arr3 = np.vsplit(arr_1,indices_or_sections=[1,3])\n",
    "display(arr1,arr2,arr3)"
   ]
  },
  {
   "cell_type": "markdown",
   "id": "02ec29e4",
   "metadata": {},
   "source": [
    "copy()函数创造副本"
   ]
  },
  {
   "cell_type": "code",
   "execution_count": 51,
   "id": "f4f822ed",
   "metadata": {},
   "outputs": [
    {
     "data": {
      "text/plain": [
       "array([[7, 7, 1, 0, 3],\n",
       "       [5, 7, 5, 9, 7],\n",
       "       [9, 7, 7, 0, 5],\n",
       "       [8, 0, 9, 7, 1]])"
      ]
     },
     "execution_count": 51,
     "metadata": {},
     "output_type": "execute_result"
    }
   ],
   "source": [
    "copy_arr = arr.copy()\n",
    "copy_arr\n"
   ]
  },
  {
   "cell_type": "markdown",
   "id": "001aabbb",
   "metadata": {},
   "source": [
    "## numpy运算\n"
   ]
  },
  {
   "cell_type": "code",
   "execution_count": 54,
   "id": "3c3ae89b",
   "metadata": {},
   "outputs": [
    {
     "data": {
      "text/plain": [
       "array([1, 3, 1, 8, 8, 2, 8, 9, 9, 4])"
      ]
     },
     "execution_count": 54,
     "metadata": {},
     "output_type": "execute_result"
    }
   ],
   "source": [
    "arr = np.random.randint(1,10,10)\n",
    "arr"
   ]
  },
  {
   "cell_type": "code",
   "execution_count": 55,
   "id": "e0e56d5b",
   "metadata": {},
   "outputs": [
    {
     "data": {
      "text/plain": [
       "53"
      ]
     },
     "execution_count": 55,
     "metadata": {},
     "output_type": "execute_result"
    }
   ],
   "source": [
    "# 加法\n",
    "arr.sum()"
   ]
  },
  {
   "cell_type": "code",
   "execution_count": 68,
   "id": "a5e06d7c",
   "metadata": {},
   "outputs": [
    {
     "data": {
      "text/plain": [
       "995328"
      ]
     },
     "execution_count": 68,
     "metadata": {},
     "output_type": "execute_result"
    }
   ],
   "source": [
    "#　乘积(一个数组内部各值相乘)\n",
    "arr.prod()"
   ]
  },
  {
   "cell_type": "code",
   "execution_count": 72,
   "id": "cefdd203",
   "metadata": {},
   "outputs": [
    {
     "data": {
      "text/plain": [
       "array([[13, 16],\n",
       "       [29, 36]])"
      ]
     },
     "execution_count": 72,
     "metadata": {},
     "output_type": "execute_result"
    }
   ],
   "source": [
    "# 两个数组的乘积（数学点乘）\n",
    "arr_1 = np.array([[1,2],[3,4]])\n",
    "arr_2 =np.array([[3,4],[5,6]])\n",
    "np.dot(arr_1,arr_2)"
   ]
  },
  {
   "cell_type": "code",
   "execution_count": 73,
   "id": "06e8157a",
   "metadata": {},
   "outputs": [
    {
     "data": {
      "text/plain": [
       "array([[ 3,  8],\n",
       "       [15, 24]])"
      ]
     },
     "execution_count": 73,
     "metadata": {},
     "output_type": "execute_result"
    }
   ],
   "source": [
    "# 数组对应值相乘\n",
    "arr_1 = np.array([[1,2],[3,4]])\n",
    "arr_2 =np.array([[3,4],[5,6]])\n",
    "arr_1 * arr_2"
   ]
  },
  {
   "cell_type": "code",
   "execution_count": 56,
   "id": "d4c01dbb",
   "metadata": {},
   "outputs": [
    {
     "data": {
      "text/plain": [
       "(9, 1)"
      ]
     },
     "execution_count": 56,
     "metadata": {},
     "output_type": "execute_result"
    }
   ],
   "source": [
    "# max,min\n",
    "arr.max(), arr.min()"
   ]
  },
  {
   "cell_type": "code",
   "execution_count": 57,
   "id": "8a808922",
   "metadata": {},
   "outputs": [
    {
     "data": {
      "text/plain": [
       "5.3"
      ]
     },
     "execution_count": 57,
     "metadata": {},
     "output_type": "execute_result"
    }
   ],
   "source": [
    "# 均值\n",
    "arr.mean()"
   ]
  },
  {
   "cell_type": "code",
   "execution_count": 60,
   "id": "c13aebaf",
   "metadata": {},
   "outputs": [
    {
     "data": {
      "text/plain": [
       "6.0"
      ]
     },
     "execution_count": 60,
     "metadata": {},
     "output_type": "execute_result"
    }
   ],
   "source": [
    "# 中位数\n",
    "np.median(arr)"
   ]
  },
  {
   "cell_type": "code",
   "execution_count": 61,
   "id": "2ac256e1",
   "metadata": {},
   "outputs": [
    {
     "data": {
      "text/plain": [
       "10.41"
      ]
     },
     "execution_count": 61,
     "metadata": {},
     "output_type": "execute_result"
    }
   ],
   "source": [
    "# 方差\n",
    "arr.var()"
   ]
  },
  {
   "cell_type": "code",
   "execution_count": 62,
   "id": "6ba7a651",
   "metadata": {},
   "outputs": [
    {
     "data": {
      "text/plain": [
       "3.2264531609803355"
      ]
     },
     "execution_count": 62,
     "metadata": {},
     "output_type": "execute_result"
    }
   ],
   "source": [
    "# 标准差\n",
    "arr.std()"
   ]
  },
  {
   "cell_type": "code",
   "execution_count": 66,
   "id": "65f051f6",
   "metadata": {},
   "outputs": [
    {
     "data": {
      "text/plain": [
       "9"
      ]
     },
     "execution_count": 66,
     "metadata": {},
     "output_type": "execute_result"
    }
   ],
   "source": [
    "# 最大值索引\n",
    "arr.argmax()\n"
   ]
  },
  {
   "cell_type": "code",
   "execution_count": 67,
   "id": "34024944",
   "metadata": {},
   "outputs": [
    {
     "data": {
      "text/plain": [
       "1"
      ]
     },
     "execution_count": 67,
     "metadata": {},
     "output_type": "execute_result"
    }
   ],
   "source": [
    "# 最小值索引\n",
    "arr.argmin()\n",
    "arr[arr.argmin()]"
   ]
  },
  {
   "cell_type": "markdown",
   "id": "966de0a7",
   "metadata": {},
   "source": [
    "## 排序"
   ]
  },
  {
   "cell_type": "code",
   "execution_count": 75,
   "id": "d9cfdbb1",
   "metadata": {},
   "outputs": [
    {
     "data": {
      "text/plain": [
       "array([6, 5, 7, 3, 4, 1, 8, 9, 2, 0])"
      ]
     },
     "execution_count": 75,
     "metadata": {},
     "output_type": "execute_result"
    }
   ],
   "source": [
    "arr = np.random.permutation(10)\n",
    "arr"
   ]
  },
  {
   "cell_type": "code",
   "execution_count": 77,
   "id": "e0906a68",
   "metadata": {},
   "outputs": [
    {
     "data": {
      "text/plain": [
       "array([0, 1, 2, 3, 4, 5, 6, 7, 8, 9])"
      ]
     },
     "execution_count": 77,
     "metadata": {},
     "output_type": "execute_result"
    }
   ],
   "source": [
    "# 改变原数组\n",
    "arr.sort()\n",
    "arr"
   ]
  },
  {
   "cell_type": "code",
   "execution_count": 81,
   "id": "7b5d27e1",
   "metadata": {},
   "outputs": [
    {
     "data": {
      "text/plain": [
       "array([3, 0, 7, 2, 6, 8, 9, 1, 5, 4])"
      ]
     },
     "execution_count": 81,
     "metadata": {},
     "output_type": "execute_result"
    }
   ],
   "source": [
    "arr = np.random.permutation(10)\n",
    "arr"
   ]
  },
  {
   "cell_type": "code",
   "execution_count": 83,
   "id": "c07ee2ae",
   "metadata": {},
   "outputs": [
    {
     "data": {
      "text/plain": [
       "array([0, 1, 2, 3, 4, 5, 6, 7, 8, 9])"
      ]
     },
     "execution_count": 83,
     "metadata": {},
     "output_type": "execute_result"
    }
   ],
   "source": [
    "# 不改变原数组\n",
    "sorted_arr = np.sort(arr)\n",
    "sorted_arr"
   ]
  },
  {
   "cell_type": "code",
   "execution_count": 84,
   "id": "42214075",
   "metadata": {},
   "outputs": [
    {
     "data": {
      "text/plain": [
       "array([3, 0, 7, 2, 6, 8, 9, 1, 5, 4])"
      ]
     },
     "execution_count": 84,
     "metadata": {},
     "output_type": "execute_result"
    }
   ],
   "source": [
    "arr"
   ]
  },
  {
   "cell_type": "markdown",
   "id": "d3c91f49",
   "metadata": {},
   "source": [
    "### 部分排序"
   ]
  },
  {
   "cell_type": "code",
   "execution_count": 89,
   "id": "0be8d45a",
   "metadata": {},
   "outputs": [
    {
     "data": {
      "text/plain": [
       "array([4844, 9243, 2512, ..., 1334, 2169, 9892])"
      ]
     },
     "execution_count": 89,
     "metadata": {},
     "output_type": "execute_result"
    }
   ],
   "source": [
    "arr = np.random.permutation(10000)\n",
    "arr"
   ]
  },
  {
   "cell_type": "code",
   "execution_count": 90,
   "id": "e3202326",
   "metadata": {},
   "outputs": [
    {
     "data": {
      "text/plain": [
       "array([   0,    3,    2, ..., 8783, 6895, 9892])"
      ]
     },
     "execution_count": 90,
     "metadata": {},
     "output_type": "execute_result"
    }
   ],
   "source": [
    "np.partition(arr,4) # 前四个数排序"
   ]
  },
  {
   "cell_type": "code",
   "execution_count": 93,
   "id": "f32d8f26",
   "metadata": {},
   "outputs": [
    {
     "data": {
      "text/plain": [
       "array([0, 3, 2, 1])"
      ]
     },
     "execution_count": 93,
     "metadata": {},
     "output_type": "execute_result"
    }
   ],
   "source": [
    "np.partition(arr,4)[:4]"
   ]
  },
  {
   "cell_type": "code",
   "execution_count": 97,
   "id": "4a27a003",
   "metadata": {},
   "outputs": [
    {
     "data": {
      "text/plain": [
       "array([ 0,  3,  2,  1,  4, 29,  6, 40, 39, 49])"
      ]
     },
     "execution_count": 97,
     "metadata": {},
     "output_type": "execute_result"
    }
   ],
   "source": [
    "np.partition(arr,4)[:10]"
   ]
  },
  {
   "cell_type": "code",
   "execution_count": 98,
   "id": "4031b7d2",
   "metadata": {},
   "outputs": [
    {
     "data": {
      "text/plain": [
       "array([ 611, 1633, 2512, ..., 9997, 9998, 9999])"
      ]
     },
     "execution_count": 98,
     "metadata": {},
     "output_type": "execute_result"
    }
   ],
   "source": [
    "np.partition(arr,-4) # 后四个数排序"
   ]
  },
  {
   "cell_type": "code",
   "execution_count": 99,
   "id": "8e36f94d",
   "metadata": {},
   "outputs": [
    {
     "data": {
      "text/plain": [
       "array([9996, 9997, 9998, 9999])"
      ]
     },
     "execution_count": 99,
     "metadata": {},
     "output_type": "execute_result"
    }
   ],
   "source": [
    "np.partition(arr,-4)[-4:]"
   ]
  },
  {
   "cell_type": "markdown",
   "id": "e7e8283c",
   "metadata": {},
   "source": [
    "### 近似\n"
   ]
  },
  {
   "cell_type": "code",
   "execution_count": 102,
   "id": "b75dc68a",
   "metadata": {},
   "outputs": [
    {
     "data": {
      "text/plain": [
       "array([0. , 1.2, 2.4, 3.6, 4.8, 6. , 7.2, 8.4, 9.6])"
      ]
     },
     "execution_count": 102,
     "metadata": {},
     "output_type": "execute_result"
    }
   ],
   "source": [
    "arr = np.arange(0,10,1.2)\n",
    "arr"
   ]
  },
  {
   "cell_type": "code",
   "execution_count": 108,
   "id": "b9a581df",
   "metadata": {},
   "outputs": [
    {
     "data": {
      "text/plain": [
       "array([ 0.,  1.,  2.,  4.,  5.,  6.,  7.,  8., 10.])"
      ]
     },
     "execution_count": 108,
     "metadata": {},
     "output_type": "execute_result"
    }
   ],
   "source": [
    "np.around(arr)"
   ]
  },
  {
   "cell_type": "code",
   "execution_count": null,
   "id": "5c1e134e",
   "metadata": {},
   "outputs": [],
   "source": []
  }
 ],
 "metadata": {
  "kernelspec": {
   "display_name": "Default",
   "language": "python",
   "name": "default"
  },
  "language_info": {
   "codemirror_mode": {
    "name": "ipython",
    "version": 3
   },
   "file_extension": ".py",
   "mimetype": "text/x-python",
   "name": "python",
   "nbconvert_exporter": "python",
   "pygments_lexer": "ipython3",
   "version": "3.11.5"
  }
 },
 "nbformat": 4,
 "nbformat_minor": 5
}
