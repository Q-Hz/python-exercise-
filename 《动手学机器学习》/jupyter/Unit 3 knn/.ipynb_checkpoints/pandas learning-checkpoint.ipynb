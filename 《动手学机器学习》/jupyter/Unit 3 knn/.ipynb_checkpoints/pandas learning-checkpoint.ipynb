{
 "cells": [
  {
   "cell_type": "markdown",
   "id": "9b9509aa",
   "metadata": {},
   "source": [
    "# Series"
   ]
  },
  {
   "cell_type": "markdown",
   "id": "1d72fc40",
   "metadata": {},
   "source": [
    "## 构造Series"
   ]
  },
  {
   "cell_type": "markdown",
   "id": "493505c1",
   "metadata": {},
   "source": [
    "### 用列表或者数组构造Series"
   ]
  },
  {
   "cell_type": "code",
   "execution_count": 1,
   "id": "6971f8dc",
   "metadata": {},
   "outputs": [],
   "source": [
    "import numpy as np\n",
    "import pandas as pd\n",
    "\n",
    "from pandas import Series"
   ]
  },
  {
   "cell_type": "code",
   "execution_count": 3,
   "id": "c9f32e3a",
   "metadata": {},
   "outputs": [
    {
     "data": {
      "text/plain": [
       "0    1\n",
       "1    2\n",
       "2    3\n",
       "dtype: int32"
      ]
     },
     "execution_count": 3,
     "metadata": {},
     "output_type": "execute_result"
    }
   ],
   "source": [
    "# 用数组构造\n",
    "arr = np.array([1,2,3])\n",
    "pd.Series(arr)"
   ]
  },
  {
   "cell_type": "code",
   "execution_count": 4,
   "id": "4003c4bd",
   "metadata": {},
   "outputs": [
    {
     "data": {
      "text/plain": [
       "0    1\n",
       "1    2\n",
       "2    3\n",
       "dtype: int64"
      ]
     },
     "execution_count": 4,
     "metadata": {},
     "output_type": "execute_result"
    }
   ],
   "source": [
    "# 用列表构造\n",
    "list=[1,2,3]\n",
    "pd.Series(list)"
   ]
  },
  {
   "cell_type": "markdown",
   "id": "b26f76ac",
   "metadata": {},
   "source": [
    "区别：数组构造Series是印用，列表是创建副本"
   ]
  },
  {
   "cell_type": "markdown",
   "id": "919a2967",
   "metadata": {},
   "source": [
    "## 用字典构造Series"
   ]
  },
  {
   "cell_type": "code",
   "execution_count": 5,
   "id": "8ba10e46",
   "metadata": {},
   "outputs": [
    {
     "data": {
      "text/plain": [
       "k1    aa\n",
       "k2    bb\n",
       "k3    cc\n",
       "dtype: object"
      ]
     },
     "execution_count": 5,
     "metadata": {},
     "output_type": "execute_result"
    }
   ],
   "source": [
    "# 手动输入index\n",
    "name_list = ['aa','bb','cc']\n",
    "pd.Series(name_list,index=['k1','k2','k3'])\n"
   ]
  },
  {
   "cell_type": "code",
   "execution_count": 8,
   "id": "d7995d0f",
   "metadata": {},
   "outputs": [
    {
     "data": {
      "text/plain": [
       "语文    150\n",
       "数学    150\n",
       "英语    150\n",
       "理综    300\n",
       "dtype: object"
      ]
     },
     "execution_count": 8,
     "metadata": {},
     "output_type": "execute_result"
    }
   ],
   "source": [
    "# 直接用字典构造\n",
    "dic = {\n",
    "    '语文':'150',\n",
    "    '数学':'150',\n",
    "    '英语':'150',\n",
    "    '理综':'300'\n",
    "}\n",
    "pd.Series(dic)"
   ]
  },
  {
   "cell_type": "markdown",
   "id": "78f742be",
   "metadata": {},
   "source": [
    "## 访问Series"
   ]
  },
  {
   "cell_type": "code",
   "execution_count": 5,
   "id": "06730410",
   "metadata": {},
   "outputs": [
    {
     "data": {
      "text/plain": [
       "array([98, 62, 77, 88, 83])"
      ]
     },
     "execution_count": 5,
     "metadata": {},
     "output_type": "execute_result"
    }
   ],
   "source": [
    "import numpy as np\n",
    "import pandas as pd\n",
    "from pandas import Series\n",
    "arr = np.random.randint(0,101,5)\n",
    "arr"
   ]
  },
  {
   "cell_type": "code",
   "execution_count": 6,
   "id": "672fdbab",
   "metadata": {},
   "outputs": [
    {
     "data": {
      "text/plain": [
       "lucy     98\n",
       "tony     62\n",
       "andy     77\n",
       "tom      88\n",
       "mario    83\n",
       "dtype: int32"
      ]
     },
     "execution_count": 6,
     "metadata": {},
     "output_type": "execute_result"
    }
   ],
   "source": [
    "s =Series(data=arr , index=['lucy', 'tony', 'andy', 'tom', 'mario'])\n",
    "s"
   ]
  },
  {
   "cell_type": "markdown",
   "id": "992202e4",
   "metadata": {},
   "source": [
    "### 1.loc访问显示索引"
   ]
  },
  {
   "cell_type": "code",
   "execution_count": 7,
   "id": "31098b9b",
   "metadata": {},
   "outputs": [
    {
     "data": {
      "text/plain": [
       "98"
      ]
     },
     "execution_count": 7,
     "metadata": {},
     "output_type": "execute_result"
    }
   ],
   "source": [
    "s.loc['lucy']"
   ]
  },
  {
   "cell_type": "code",
   "execution_count": 8,
   "id": "6d6c4112",
   "metadata": {},
   "outputs": [
    {
     "data": {
      "text/plain": [
       "lucy    98\n",
       "andy    77\n",
       "dtype: int32"
      ]
     },
     "execution_count": 8,
     "metadata": {},
     "output_type": "execute_result"
    }
   ],
   "source": [
    "list = ['lucy','andy']\n",
    "s.loc[list]"
   ]
  },
  {
   "cell_type": "code",
   "execution_count": 9,
   "id": "2e8f99b0",
   "metadata": {},
   "outputs": [
    {
     "data": {
      "text/plain": [
       "lucy    98\n",
       "andy    77\n",
       "dtype: int32"
      ]
     },
     "execution_count": 9,
     "metadata": {},
     "output_type": "execute_result"
    }
   ],
   "source": [
    "s.loc[['lucy','andy']]"
   ]
  },
  {
   "cell_type": "markdown",
   "id": "69d4e2e6",
   "metadata": {},
   "source": [
    "### 2.iloc访问隐式索引\n"
   ]
  },
  {
   "cell_type": "code",
   "execution_count": 10,
   "id": "f05a21c5",
   "metadata": {},
   "outputs": [
    {
     "data": {
      "text/plain": [
       "98"
      ]
     },
     "execution_count": 10,
     "metadata": {},
     "output_type": "execute_result"
    }
   ],
   "source": [
    "s.iloc[0]"
   ]
  },
  {
   "cell_type": "code",
   "execution_count": 11,
   "id": "a2f0381c",
   "metadata": {},
   "outputs": [
    {
     "data": {
      "text/plain": [
       "lucy    98\n",
       "tony    62\n",
       "dtype: int32"
      ]
     },
     "execution_count": 11,
     "metadata": {},
     "output_type": "execute_result"
    }
   ],
   "source": [
    "s.iloc[[0,1]]"
   ]
  },
  {
   "cell_type": "code",
   "execution_count": 12,
   "id": "3370a92d",
   "metadata": {},
   "outputs": [
    {
     "data": {
      "text/plain": [
       "lucy    98\n",
       "tony    62\n",
       "dtype: int32"
      ]
     },
     "execution_count": 12,
     "metadata": {},
     "output_type": "execute_result"
    }
   ],
   "source": [
    "list = [0,1]\n",
    "s.iloc[list]"
   ]
  },
  {
   "cell_type": "markdown",
   "id": "39e53ca9",
   "metadata": {},
   "source": [
    "### 3.利用bool访问"
   ]
  },
  {
   "cell_type": "code",
   "execution_count": 13,
   "id": "a99d4cb0",
   "metadata": {},
   "outputs": [
    {
     "data": {
      "text/plain": [
       "lucy     98\n",
       "andy     77\n",
       "tom      88\n",
       "mario    83\n",
       "dtype: int32"
      ]
     },
     "execution_count": 13,
     "metadata": {},
     "output_type": "execute_result"
    }
   ],
   "source": [
    "s[s>70]"
   ]
  },
  {
   "cell_type": "markdown",
   "id": "6df62e50",
   "metadata": {},
   "source": [
    "## Series的属性和方法"
   ]
  },
  {
   "cell_type": "markdown",
   "id": "ba48faa4",
   "metadata": {},
   "source": [
    "### 属性 shape size index values name"
   ]
  },
  {
   "cell_type": "code",
   "execution_count": 45,
   "id": "d77f0c93",
   "metadata": {},
   "outputs": [
    {
     "data": {
      "text/plain": [
       "lucy     98\n",
       "tony     62\n",
       "andy     77\n",
       "tom      88\n",
       "mario    83\n",
       "dtype: int32"
      ]
     },
     "execution_count": 45,
     "metadata": {},
     "output_type": "execute_result"
    }
   ],
   "source": [
    "s =Series(data=arr , index=['lucy', 'tony', 'andy', 'tom', 'mario'])\n",
    "s"
   ]
  },
  {
   "cell_type": "code",
   "execution_count": 46,
   "id": "e5813c28",
   "metadata": {},
   "outputs": [
    {
     "data": {
      "text/plain": [
       "(5,)"
      ]
     },
     "execution_count": 46,
     "metadata": {},
     "output_type": "execute_result"
    }
   ],
   "source": [
    "s.shape"
   ]
  },
  {
   "cell_type": "code",
   "execution_count": 47,
   "id": "a8e7fed5",
   "metadata": {},
   "outputs": [
    {
     "data": {
      "text/plain": [
       "5"
      ]
     },
     "execution_count": 47,
     "metadata": {},
     "output_type": "execute_result"
    }
   ],
   "source": [
    "s.size"
   ]
  },
  {
   "cell_type": "code",
   "execution_count": 48,
   "id": "6c5bb175",
   "metadata": {},
   "outputs": [
    {
     "data": {
      "text/plain": [
       "array([98, 62, 77, 88, 83])"
      ]
     },
     "execution_count": 48,
     "metadata": {},
     "output_type": "execute_result"
    }
   ],
   "source": [
    "s.values"
   ]
  },
  {
   "cell_type": "code",
   "execution_count": 49,
   "id": "b76d705f",
   "metadata": {},
   "outputs": [
    {
     "data": {
      "text/plain": [
       "Index(['lucy', 'tony', 'andy', 'tom', 'mario'], dtype='object')"
      ]
     },
     "execution_count": 49,
     "metadata": {},
     "output_type": "execute_result"
    }
   ],
   "source": [
    "s.index"
   ]
  },
  {
   "cell_type": "code",
   "execution_count": 50,
   "id": "7b7b207c",
   "metadata": {},
   "outputs": [
    {
     "data": {
      "text/plain": [
       "lucy     98\n",
       "tony     62\n",
       "andy     77\n",
       "tom      88\n",
       "mario    83\n",
       "Name: score, dtype: int32"
      ]
     },
     "execution_count": 50,
     "metadata": {},
     "output_type": "execute_result"
    }
   ],
   "source": [
    "s.name='score'\n",
    "s"
   ]
  },
  {
   "cell_type": "markdown",
   "id": "1c62059c",
   "metadata": {},
   "source": [
    "### 应用\n"
   ]
  },
  {
   "cell_type": "code",
   "execution_count": 51,
   "id": "c6e41231",
   "metadata": {},
   "outputs": [
    {
     "data": {
      "text/plain": [
       "False"
      ]
     },
     "execution_count": 51,
     "metadata": {},
     "output_type": "execute_result"
    }
   ],
   "source": [
    "(s.index == 'amy').any()"
   ]
  },
  {
   "cell_type": "code",
   "execution_count": 52,
   "id": "c90fa7c2",
   "metadata": {},
   "outputs": [
    {
     "data": {
      "text/plain": [
       "lucy     96\n",
       "tony     89\n",
       "andy      9\n",
       "tom      64\n",
       "mario    39\n",
       "dtype: int32"
      ]
     },
     "execution_count": 52,
     "metadata": {},
     "output_type": "execute_result"
    }
   ],
   "source": [
    "s2 = Series(data=np.random.randint(1,100,5), index=s.index)\n",
    "s2"
   ]
  },
  {
   "cell_type": "markdown",
   "id": "4b912616",
   "metadata": {},
   "source": [
    "### 方法head（）和tail（）"
   ]
  },
  {
   "cell_type": "markdown",
   "id": "ed517f49",
   "metadata": {},
   "source": [
    "相当于切片"
   ]
  },
  {
   "cell_type": "code",
   "execution_count": 53,
   "id": "19edebca",
   "metadata": {},
   "outputs": [
    {
     "data": {
      "text/plain": [
       "andy     24\n",
       "tony     13\n",
       "mario    23\n",
       "dtype: int32"
      ]
     },
     "execution_count": 53,
     "metadata": {},
     "output_type": "execute_result"
    }
   ],
   "source": [
    "s=Series(data=np.random.randint(1,100,3),index=['andy','tony','mario'])\n",
    "s"
   ]
  },
  {
   "cell_type": "code",
   "execution_count": 54,
   "id": "05cded00",
   "metadata": {},
   "outputs": [
    {
     "data": {
      "text/plain": [
       "andy    24\n",
       "tony    13\n",
       "dtype: int32"
      ]
     },
     "execution_count": 54,
     "metadata": {},
     "output_type": "execute_result"
    }
   ],
   "source": [
    "s.head(2)"
   ]
  },
  {
   "cell_type": "code",
   "execution_count": 55,
   "id": "617dac38",
   "metadata": {},
   "outputs": [
    {
     "data": {
      "text/plain": [
       "tony     13\n",
       "mario    23\n",
       "dtype: int32"
      ]
     },
     "execution_count": 55,
     "metadata": {},
     "output_type": "execute_result"
    }
   ],
   "source": [
    "s.tail(2)"
   ]
  },
  {
   "cell_type": "markdown",
   "id": "a3fd7dd4",
   "metadata": {},
   "source": [
    "### 方法 isnull（）和 notnull（）检测缺失数据"
   ]
  },
  {
   "cell_type": "markdown",
   "id": "446945f3",
   "metadata": {},
   "source": [
    "配合any（）和all（）使用"
   ]
  },
  {
   "cell_type": "code",
   "execution_count": 56,
   "id": "15d98a1f",
   "metadata": {},
   "outputs": [
    {
     "data": {
      "text/plain": [
       "amy      1.0\n",
       "tony     2.0\n",
       "mario    3.0\n",
       "lucy     NaN\n",
       "dtype: float64"
      ]
     },
     "execution_count": 56,
     "metadata": {},
     "output_type": "execute_result"
    }
   ],
   "source": [
    "dic={\n",
    "    \"amy\":1,\n",
    "    \"tony\":2,\n",
    "    \"mario\":3\n",
    "}\n",
    "s=Series(data=dic,index=[\"amy\",\"tony\",\"mario\",\"lucy\"])\n",
    "s"
   ]
  },
  {
   "cell_type": "code",
   "execution_count": 57,
   "id": "4151862f",
   "metadata": {},
   "outputs": [
    {
     "data": {
      "text/plain": [
       "amy      False\n",
       "tony     False\n",
       "mario    False\n",
       "lucy      True\n",
       "dtype: bool"
      ]
     },
     "execution_count": 57,
     "metadata": {},
     "output_type": "execute_result"
    }
   ],
   "source": [
    "s.isnull()"
   ]
  },
  {
   "cell_type": "code",
   "execution_count": 58,
   "id": "e14d75cf",
   "metadata": {},
   "outputs": [
    {
     "data": {
      "text/plain": [
       "True"
      ]
     },
     "execution_count": 58,
     "metadata": {},
     "output_type": "execute_result"
    }
   ],
   "source": [
    "s.isnull().any() # 至少有一个NaN"
   ]
  },
  {
   "cell_type": "markdown",
   "id": "6543e09b",
   "metadata": {},
   "source": [
    "## 排序"
   ]
  },
  {
   "cell_type": "markdown",
   "id": "d8969d2f",
   "metadata": {},
   "source": [
    "###"
   ]
  }
 ],
 "metadata": {
  "kernelspec": {
   "display_name": "Default",
   "language": "python",
   "name": "default"
  },
  "language_info": {
   "codemirror_mode": {
    "name": "ipython",
    "version": 3
   },
   "file_extension": ".py",
   "mimetype": "text/x-python",
   "name": "python",
   "nbconvert_exporter": "python",
   "pygments_lexer": "ipython3",
   "version": "3.11.5"
  }
 },
 "nbformat": 4,
 "nbformat_minor": 5
}
