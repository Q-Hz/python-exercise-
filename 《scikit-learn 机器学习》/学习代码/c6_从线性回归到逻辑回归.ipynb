{
 "cells": [
  {
   "cell_type": "markdown",
   "metadata": {},
   "source": [
    "# 逻辑回归  \n",
    "响应变量描述了结果是正向的概率。\n",
    "如果响应变量等于或者超出了一个区分阈值，则被预测为正向类，否则被预测为负向类"
   ]
  },
  {
   "cell_type": "markdown",
   "metadata": {},
   "source": [
    "# 垃圾邮件过滤\n",
    " "
   ]
  },
  {
   "cell_type": "code",
   "execution_count": 2,
   "metadata": {},
   "outputs": [
    {
     "name": "stdout",
     "output_type": "stream",
     "text": [
      "      0                                                  1\n",
      "0   ham  Go until jurong point, crazy.. Available only ...\n",
      "1   ham                      Ok lar... Joking wif u oni...\n",
      "2  spam  Free entry in 2 a wkly comp to win FA Cup fina...\n",
      "3   ham  U dun say so early hor... U c already then say...\n",
      "4   ham  Nah I don't think he goes to usf, he lives aro...\n"
     ]
    }
   ],
   "source": [
    "# 导入文件\n",
    "import pandas as pd\n",
    "df = pd.read_csv(\"D:\\Program Files\\python-exercise-\\《scikit-learn 机器学习》\\学习代码\\SMSSpamCollection.csv\", delimiter='\\t', header=None)\n",
    "print(df.head())"
   ]
  },
  {
   "cell_type": "code",
   "execution_count": 3,
   "metadata": {},
   "outputs": [
    {
     "name": "stdout",
     "output_type": "stream",
     "text": [
      "Number of spam messages: 747\n",
      "number of ham message: 4825\n"
     ]
    }
   ],
   "source": [
    "# 分别打印垃圾邮件（spam）和非垃圾邮件（ham）的数量\n",
    "print('Number of spam messages: %s' % df[df[0] == 'spam'][0].count())  # 打印垃圾短信spam的数量\n",
    "print('number of ham message: %s' % df[df[0] == 'ham'][0].count())  # 打印非垃圾短信的数量\n",
    "# df[0] == 'spam'：这部分代码会在数据框 df 的第一列中寻找所有值为 ‘spam’ 的行，并返回一个布尔型的 Series，其中 ‘spam’ 对应的行为 True，其他行为 False。"
   ]
  },
  {
   "cell_type": "code",
   "execution_count": 6,
   "metadata": {},
   "outputs": [
    {
     "name": "stdout",
     "output_type": "stream",
     "text": [
      "Predicted: ham, message: Sorry, I'll call later\n",
      "Predicted: ham, message: Ü still got lessons?  Ü in sch?\n",
      "Predicted: spam, message: FREE MESSAGE Activate your 500 FREE Text Messages by replying to this message with the word FREE For terms & conditions, visit www.07781482378.com\n",
      "Predicted: ham, message: Yup. Thk of u oso boring wat.\n",
      "Predicted: ham, message: We took hooch for a walk toaday and i fell over! Splat! Grazed my knees and everything! Should have stayed at home! See you tomorrow! \n"
     ]
    }
   ],
   "source": [
    "# 训练模型\n",
    "\n",
    "import numpy as np\n",
    "import pandas as pd\n",
    "from sklearn.feature_extraction.text import TfidfVectorizer\n",
    "from sklearn.linear_model._logistic import LogisticRegression\n",
    "from sklearn.model_selection import train_test_split, cross_val_score\n",
    "\n",
    "X = df[1].values\n",
    "y = df[0].values\n",
    "X_train_raw, X_test_raw, y_train, y_test = train_test_split(X,y)\n",
    "\n",
    "# 用来学习邮件的(tf*idf)规律\n",
    "vectorizer = TfidfVectorizer()  \n",
    "X_train = vectorizer.fit_transform(X_train_raw)\n",
    "X_test = vectorizer.transform(X_test_raw)\n",
    "\n",
    "classifier = LogisticRegression()\n",
    "classifier.fit(X_train,y_train)\n",
    "predictions = classifier.predict(X_test)\n",
    "\n",
    "for i,prediction in enumerate(predictions[:5]):\n",
    "    print('Predicted: %s, message: %s' %(prediction,X_test_raw[i]))\n",
    "    "
   ]
  },
  {
   "cell_type": "markdown",
   "metadata": {},
   "source": [
    "# 二元分类性能指标 \n"
   ]
  },
  {
   "cell_type": "markdown",
   "metadata": {},
   "source": [
    "## 混淆矩阵（or列联表） 可以对真假阴阳可视化  \n",
    "行是实例的真实类，列是实例的预测类\n"
   ]
  },
  {
   "cell_type": "code",
   "execution_count": 13,
   "metadata": {},
   "outputs": [
    {
     "name": "stdout",
     "output_type": "stream",
     "text": [
      "[[4 1]\n",
      " [2 3]]\n"
     ]
    },
    {
     "data": {
      "image/png": "[encoded data removed]",
      "text/plain": [
       "<Figure size 480x480 with 2 Axes>"
      ]
     },
     "metadata": {},
     "output_type": "display_data"
    }
   ],
   "source": [
    "# 展示混淆矩阵\n",
    "from sklearn.metrics import confusion_matrix\n",
    "import matplotlib.pyplot as plt \n",
    "\n",
    "y_test = [0,0,0,0,0,1,1,1,1,1]\n",
    "y_pred = [0,1,0,0,0,0,0,1,1,1]\n",
    "\n",
    "cfs_matrix = confusion_matrix(y_test, y_pred)\n",
    "print(cfs_matrix)  # 4真阴，1假阳，2假阴，3真阳\n",
    "\n",
    "plt.matshow(cfs_matrix)  # 将混淆矩阵可视化为一个热图\n",
    "plt.title('Confusion Matrix')\n",
    "plt.colorbar()\n",
    "plt.ylabel('True label')\n",
    "plt.xlabel('Predicted label')\n",
    "plt.show()"
   ]
  },
  {
   "cell_type": "markdown",
   "metadata": {},
   "source": [
    "## 准确率(Accuracy)\n",
    "LogisticRegression.soce()方法使用准确率来给测试集的标签进行预测和打分"
   ]
  },
  {
   "cell_type": "code",
   "execution_count": 27,
   "metadata": {},
   "outputs": [
    {
     "name": "stdout",
     "output_type": "stream",
     "text": [
      "Accuracies [0.95215311 0.95454545 0.96291866 0.96052632 0.94856459]\n",
      "Mean accuracy: 0.9557416267942583\n"
     ]
    }
   ],
   "source": [
    "# 本处使用交叉验证\n",
    "import numpy as np\n",
    "import pandas as pd\n",
    "from sklearn.feature_extraction.text import TfidfVectorizer\n",
    "from sklearn.linear_model._logistic import LogisticRegression\n",
    "from sklearn.model_selection import train_test_split, cross_val_score\n",
    "from sklearn.metrics import roc_curve, auc\n",
    "import matplotlib.pyplot as plt\n",
    "\n",
    "df = pd.read_csv(\"D:\\Program Files\\python-exercise-\\《scikit-learn 机器学习》\\学习代码\\sms.csv\")\n",
    "X_train_raw, X_test_raw, y_train, y_test = train_test_split(df['message'],df['label'],random_state=11)\n",
    "\n",
    "# 用来学习邮件的(tf*idf)规律\n",
    "vectorizer = TfidfVectorizer()\n",
    "X_train = vectorizer.fit_transform(X_train_raw)\n",
    "X_test = vectorizer.transform(X_test_raw)\n",
    "\n",
    "# 建立模型\n",
    "classifier = LogisticRegression()\n",
    "classifier.fit(X_train,y_train)\n",
    "scores = cross_val_score(classifier, X_train, y_train, cv=5)\n",
    "print('Accuracies %s' %scores)\n",
    "print('Mean accuracy: %s' % np.mean(scores))"
   ]
  },
  {
   "cell_type": "markdown",
   "metadata": {},
   "source": [
    "##  精确率（Precision）和召回率(Recall)   \n",
    "精确率是阳性结果预测正确的比例  \n",
    "召回率是真实的阳性实例被分类器辨认出的比例"
   ]
  },
  {
   "cell_type": "code",
   "execution_count": 28,
   "metadata": {},
   "outputs": [
    {
     "name": "stdout",
     "output_type": "stream",
     "text": [
      "Precision: 0.9924976942419154\n",
      "Recall:0.6800807328054649\n"
     ]
    }
   ],
   "source": [
    "precisions = cross_val_score(classifier, X_train, y_train ,cv=5, scoring='precision')\n",
    "print('Precision: %s' % np.mean(precisions))\n",
    "recalls = cross_val_score(classifier, X_train, y_train ,cv=5, scoring='recall')\n",
    "print('Recall:%s' % np.mean(recalls))"
   ]
  },
  {
   "cell_type": "markdown",
   "metadata": {},
   "source": [
    "## 计算F1值 \n",
    "F1值是精确率和召回率的调和平均值(会对精确率和召回率不平衡的分类器进行惩罚)  \n",
    "达到完美精确率和召回率模型的F1得分为1   \n",
    "**f0.5** 和 **f2** 分别偏向精确率和召回率"
   ]
  },
  {
   "cell_type": "code",
   "execution_count": 29,
   "metadata": {},
   "outputs": [
    {
     "name": "stdout",
     "output_type": "stream",
     "text": [
      "F1 score: 0.8063416255334556\n"
     ]
    }
   ],
   "source": [
    "f1s = cross_val_score(classifier,X_train,y_train,cv=5,scoring='f1')\n",
    "print('F1 score: %s' %np.mean(f1s))"
   ]
  },
  {
   "cell_type": "markdown",
   "metadata": {},
   "source": [
    "## ROC AUC   \n",
    "**受度者操作特征（ROC）曲线**描绘了分类器 召回率和衰退之间的关系（衰退/假阳性率：假阳性数量除以所有阴性数量）   \n",
    "**AUC**；是ROC曲线以下的部分，将ROC曲线归纳为一个用来标示分类器预计性能的指"
   ]
  },
  {
   "cell_type": "code",
   "execution_count": 40,
   "metadata": {},
   "outputs": [
    {
     "data": {
      "image/png": "[encoded data removed]",
      "text/plain": [
       "<Figure size 640x480 with 1 Axes>"
      ]
     },
     "metadata": {},
     "output_type": "display_data"
    }
   ],
   "source": [
    "# 绘制垃圾短信分类器的ROC曲线\n",
    "predictions = classifier.predict_proba(X_test)\n",
    "false_positive_rate, recall, thresholds = roc_curve(y_test, predictions[:,1])\n",
    "roc_auc = auc(false_positive_rate, recall)\n",
    "\n",
    "plt.title('Receiver Operating Characteristic')\n",
    "plt.plot(false_positive_rate, recall, 'b', label='AUC = %0.2f' %roc_auc)\n",
    "plt.legend(loc='lower right')\n",
    "plt.plot([0,1],[0,1],'r--')\n",
    "plt.xlim([0.0,1.0])\n",
    "plt.ylim([0.0,1.0])\n",
    "plt.ylabel('Recall')\n",
    "plt.xlabel('Fall-out')\n",
    "plt.show()"
   ]
  }
 ],
 "metadata": {
  "kernelspec": {
   "display_name": "base",
   "language": "python",
   "name": "python3"
  },
  "language_info": {
   "codemirror_mode": {
    "name": "ipython",
    "version": 3
   },
   "file_extension": ".py",
   "mimetype": "text/x-python",
   "name": "python",
   "nbconvert_exporter": "python",
   "pygments_lexer": "ipython3",
   "version": "3.11.5"
  }
 },
 "nbformat": 4,
 "nbformat_minor": 2
}
