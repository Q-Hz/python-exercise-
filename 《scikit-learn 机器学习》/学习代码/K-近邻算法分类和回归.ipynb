{
 "cells": [
  {
   "cell_type": "markdown",
   "metadata": {},
   "source": [
    "# knn 模型分类———通过一个人的身高、体重预测其性别"
   ]
  },
  {
   "cell_type": "markdown",
   "metadata": {},
   "source": [
    "## 建立训练数据并进行可视化"
   ]
  },
  {
   "cell_type": "code",
   "execution_count": 1,
   "metadata": {},
   "outputs": [
    {
     "ename": "ModuleNotFoundError",
     "evalue": "No module named 'numpy'",
     "output_type": "error",
     "traceback": [
      "\u001b[1;31m---------------------------------------------------------------------------\u001b[0m",
      "\u001b[1;31mModuleNotFoundError\u001b[0m                       Traceback (most recent call last)",
      "Cell \u001b[1;32mIn[1], line 1\u001b[0m\n\u001b[1;32m----> 1\u001b[0m \u001b[38;5;28;01mimport\u001b[39;00m \u001b[38;5;21;01mnumpy\u001b[39;00m \u001b[38;5;28;01mas\u001b[39;00m \u001b[38;5;21;01mnp\u001b[39;00m \n\u001b[0;32m      2\u001b[0m \u001b[38;5;28;01mimport\u001b[39;00m \u001b[38;5;21;01mmatplotlib\u001b[39;00m\u001b[38;5;21;01m.\u001b[39;00m\u001b[38;5;21;01mpyplot\u001b[39;00m \u001b[38;5;28;01mas\u001b[39;00m \u001b[38;5;21;01mplt\u001b[39;00m\n",
      "\u001b[1;31mModuleNotFoundError\u001b[0m: No module named 'numpy'"
     ]
    }
   ],
   "source": [
    "import numpy as np \n",
    "import matplotlib.pyplot as plt\n"
   ]
  },
  {
   "cell_type": "code",
   "execution_count": null,
   "metadata": {},
   "outputs": [],
   "source": [
    "x_train = np.array([\n",
    "    [158, 64],\n",
    "    [170, 86],\n",
    "    [183, 84],\n",
    "    [191, 80],\n",
    "    [155, 49],\n",
    "    [163, 59],\n",
    "    [180, 67],\n",
    "    [158, 54],\n",
    "    [170, 67],\n",
    "])\n",
    "y_train = ['male', 'male', 'male', 'male', 'female', 'female', 'female', 'female', 'female']"
   ]
  },
  {
   "cell_type": "code",
   "execution_count": null,
   "metadata": {},
   "outputs": [
    {
     "data": {
      "image/png": "[encoded data removed]",
      "text/plain": [
       "<Figure size 640x480 with 1 Axes>"
      ]
     },
     "metadata": {},
     "output_type": "display_data"
    }
   ],
   "source": [
    "# 设置标题和坐标轴名称\n",
    "plt.figure()\n",
    "plt.title('Human Heighits and Weighs by Sex')\n",
    "plt.xlabel('Height in cm')\n",
    "plt.ylabel('Weight in kg')\n",
    "\n",
    "for i, x in enumerate(x_train):\n",
    "    # 使用'x'标记表示训练实例中的男性，使用菱形表示训练实例中的女性\n",
    "    plt.scatter(x[0], x[1], c='b', marker='x' if y_train[i] == 'male' else 'D')\n",
    "\n",
    "plt.grid(True)\n",
    "plt.show()      "
   ]
  },
  {
   "cell_type": "markdown",
   "metadata": {},
   "source": [
    "## 进行KNN预测"
   ]
  },
  {
   "cell_type": "code",
   "execution_count": null,
   "metadata": {},
   "outputs": [
    {
     "data": {
      "text/plain": [
       "array([ 6.70820393, 21.9317122 , 31.30495168, 37.36308338, 21.        ,\n",
       "       13.60147051, 25.17935662, 16.2788206 , 15.29705854])"
      ]
     },
     "execution_count": 11,
     "metadata": {},
     "output_type": "execute_result"
    }
   ],
   "source": [
    "# 预测对象的建立\n",
    "x = np.array([155, 70])\n",
    "distances = np.sqrt(np.sum((x_train - x) ** 2, axis = 1)) # 得到一个一维数组，有九个元素。表示训练数据和测试实例的距离\n",
    "distances\n",
    "\n"
   ]
  },
  {
   "cell_type": "code",
   "execution_count": null,
   "metadata": {},
   "outputs": [
    {
     "data": {
      "text/plain": [
       "array(['male', 'female', 'female'], dtype='<U6')"
      ]
     },
     "execution_count": 12,
     "metadata": {},
     "output_type": "execute_result"
    }
   ],
   "source": [
    "# 找出距离最近的3个训练实例\n",
    "nearest_neighbor_indices = distances.argsort()[:3]  # k为3, 对所有距离进行排序，并取出前3个最小距离的索引\n",
    "# np.take() 作用：从输入数组中取出由指定索引标识的元素。\n",
    "nearest_neighbor_genders = np.take(y_train, nearest_neighbor_indices)  # 使用这些索引从y_train中获取对应的性别标签\n",
    "nearest_neighbor_genders"
   ]
  },
  {
   "cell_type": "code",
   "execution_count": null,
   "metadata": {},
   "outputs": [
    {
     "data": {
      "text/plain": [
       "'female'"
      ]
     },
     "execution_count": 15,
     "metadata": {},
     "output_type": "execute_result"
    }
   ],
   "source": [
    "# 使用Counter对象统计最近邻居的性别标签\n",
    "from collections import Counter\n",
    "b = Counter(nearest_neighbor_genders)  # 创建一个Counter对象，计算最近邻居的性别标签的数量\n",
    "# most.common() 得到一个一行二列的数组，第一个元素表示数量最多的性别标签，第二个元素表示该标签出现的次数\n",
    "b.most_common(1)[0][0]   # 使用most_common方法找出数量最多的性别标签，这就是新观察值的预测性别 "
   ]
  },
  {
   "cell_type": "markdown",
   "metadata": {},
   "source": [
    "## 用scikit-learn类库实现KNN分类器（上述功能）"
   ]
  },
  {
   "cell_type": "code",
   "execution_count": null,
   "metadata": {},
   "outputs": [],
   "source": [
    "from sklearn.preprocessing import LabelBinarizer # 用于标签的二值化\n",
    "from sklearn.neighbors import KNeighborsClassifier # KNN算法的实现"
   ]
  },
  {
   "cell_type": "code",
   "execution_count": null,
   "metadata": {},
   "outputs": [
    {
     "data": {
      "text/plain": [
       "array([[1],\n",
       "       [1],\n",
       "       [1],\n",
       "       [1],\n",
       "       [0],\n",
       "       [0],\n",
       "       [0],\n",
       "       [0],\n",
       "       [0]])"
      ]
     },
     "execution_count": 18,
     "metadata": {},
     "output_type": "execute_result"
    }
   ],
   "source": [
    "lb = LabelBinarizer()\n",
    "y_train_binarized = lb.fit_transform(y_train) # 将训练数据的标签二值化，0表示女性，1表示男性\n",
    "y_train_binarized"
   ]
  },
  {
   "cell_type": "code",
   "execution_count": null,
   "metadata": {},
   "outputs": [
    {
     "data": {
      "text/plain": [
       "array(['female'], dtype='<U6')"
      ]
     },
     "execution_count": 19,
     "metadata": {},
     "output_type": "execute_result"
    }
   ],
   "source": [
    "K = 3 \n",
    "clf = KNeighborsClassifier(n_neighbors=K)\n",
    "clf.fit(x_train, y_train_binarized.reshape(-1)) # 将数据改为一维数组的形式（-1表示未指定的值，系统自动计算），并拟合模型\n",
    "\n",
    "prediction_binarized = clf.predict(np.array([155, 70]).reshape(1,-1))[0]\n",
    "# 将一维数组改为二维数组（predict需要接受二维数组）；\n",
    "# 返回一个数组该数组只有以一个样本，即只有一个元素，取数组的第一个元素\n",
    "\n",
    "predicted_label = lb.inverse_transform(prediction_binarized) # 标签逆二值化\n",
    "predicted_label\n"
   ]
  },
  {
   "cell_type": "markdown",
   "metadata": {},
   "source": [
    "## 对一个测试数据集进行预测，并且对分类器的性能进行评价"
   ]
  },
  {
   "cell_type": "markdown",
   "metadata": {},
   "source": [
    "### 对一个数据集进行预测"
   ]
  },
  {
   "cell_type": "code",
   "execution_count": null,
   "metadata": {},
   "outputs": [
    {
     "name": "stdout",
     "output_type": "stream",
     "text": [
      "Binarized labels: [1 1 0 0]\n",
      "Binarized predictions: [0 1 0 0]\n",
      "predicted labels: ['female' 'male' 'female' 'female']\n"
     ]
    }
   ],
   "source": [
    "x_test = np.array([\n",
    "    [168, 55],\n",
    "    [190, 96],\n",
    "    [160, 52],\n",
    "    [169, 67],\n",
    "])\n",
    "y_test = ['male', 'male' , 'female', 'female']\n",
    "y_test_binarized = lb.transform(y_test) # 0表示女性 ，1表示男性\n",
    "print('Binarized labels: %s' % y_test_binarized.T[0]) # 打印y_test_binarized的转置\n",
    "prediction_binarized = clf.predict(x_test)\n",
    "print('Binarized predictions: %s' % prediction_binarized)\n",
    "print('predicted labels: %s' % lb.inverse_transform(prediction_binarized)) # 逆转预测的数值标签，打印字符串标签\n"
   ]
  },
  {
   "cell_type": "markdown",
   "metadata": {},
   "source": [
    "### 计算准确率\n"
   ]
  },
  {
   "cell_type": "code",
   "execution_count": null,
   "metadata": {},
   "outputs": [
    {
     "name": "stdout",
     "output_type": "stream",
     "text": [
      "Accuracy: 0.75\n"
     ]
    }
   ],
   "source": [
    "from sklearn.metrics import accuracy_score\n",
    "print('Accuracy: %s' % accuracy_score(y_test_binarized,prediction_binarized))\n"
   ]
  },
  {
   "cell_type": "markdown",
   "metadata": {},
   "source": [
    "### 计算精确率"
   ]
  },
  {
   "cell_type": "code",
   "execution_count": null,
   "metadata": {},
   "outputs": [
    {
     "name": "stdout",
     "output_type": "stream",
     "text": [
      "Precision: 1.0\n"
     ]
    }
   ],
   "source": [
    "from sklearn.metrics import precision_score\n",
    "print('Precision: %s' %precision_score(y_test_binarized, prediction_binarized))"
   ]
  },
  {
   "cell_type": "markdown",
   "metadata": {},
   "source": [
    "### 计算召回率"
   ]
  },
  {
   "cell_type": "code",
   "execution_count": null,
   "metadata": {},
   "outputs": [
    {
     "name": "stdout",
     "output_type": "stream",
     "text": [
      "Recall: 0.5\n"
     ]
    }
   ],
   "source": [
    "from sklearn.metrics import recall_score\n",
    "print('Recall: %s' % recall_score(y_test_binarized, prediction_binarized))\n"
   ]
  },
  {
   "cell_type": "markdown",
   "metadata": {},
   "source": [
    "### 用F1得分（或F1度量）来总结精确率和召回率"
   ]
  },
  {
   "cell_type": "code",
   "execution_count": null,
   "metadata": {},
   "outputs": [
    {
     "name": "stdout",
     "output_type": "stream",
     "text": [
      "F1 score: 0.6666666666666666\n"
     ]
    }
   ],
   "source": [
    "# F1得分是精确率和召回率的调和平均值\n",
    "from sklearn.metrics import f1_score\n",
    "print('F1 score: %s' % f1_score(y_test_binarized, prediction_binarized))\n"
   ]
  },
  {
   "cell_type": "markdown",
   "metadata": {},
   "source": [
    "### 马修斯相关系数（MCC）————衡量二元分类器性能的另一个选择"
   ]
  },
  {
   "cell_type": "code",
   "execution_count": null,
   "metadata": {},
   "outputs": [
    {
     "name": "stdout",
     "output_type": "stream",
     "text": [
      "Mattews correlation coefficient: 0.5773502691896258\n"
     ]
    }
   ],
   "source": [
    "# 完美分类器 MCC得分为1\n",
    "# 随机进行预测的分类器 MCC得分为0\n",
    "# 完全预测错误的分类器 MCC得分为-1\n",
    "from sklearn.metrics import matthews_corrcoef\n",
    "print('Mattews correlation coefficient: %s' % matthews_corrcoef(y_test_binarized, prediction_binarized))"
   ]
  },
  {
   "cell_type": "markdown",
   "metadata": {},
   "source": [
    "### 函数classification_report———用于生成精确率、召回率和F1得分"
   ]
  },
  {
   "cell_type": "code",
   "execution_count": null,
   "metadata": {},
   "outputs": [
    {
     "name": "stdout",
     "output_type": "stream",
     "text": [
      "              precision    recall  f1-score   support\n",
      "\n",
      "        male       1.00      0.50      0.67         2\n",
      "\n",
      "   micro avg       1.00      0.50      0.67         2\n",
      "   macro avg       1.00      0.50      0.67         2\n",
      "weighted avg       1.00      0.50      0.67         2\n",
      "\n"
     ]
    }
   ],
   "source": [
    "from sklearn.metrics import classification_report\n",
    "print(classification_report(y_test_binarized, prediction_binarized, target_names=['male'], labels=[1]))\n",
    "# 精确度(precision)、召回率(recall)、F1(f1-score)、样本数(support)\n",
    "# target_names 指定要显示的类别名称\n",
    "# labels 指定要包含在评估报告中的类别标签 \n"
   ]
  },
  {
   "cell_type": "markdown",
   "metadata": {},
   "source": [
    "# KNN模型回归——通过一个人的身高、性别预测其体重"
   ]
  },
  {
   "cell_type": "markdown",
   "metadata": {},
   "source": [
    "## 载入数据"
   ]
  },
  {
   "cell_type": "code",
   "execution_count": 1,
   "metadata": {},
   "outputs": [],
   "source": [
    "import numpy as np \n",
    "from sklearn.neighbors import KNeighborsRegressor \n",
    "from sklearn.metrics import mean_absolute_error, mean_squared_error, r2_score"
   ]
  },
  {
   "cell_type": "code",
   "execution_count": 19,
   "metadata": {},
   "outputs": [],
   "source": [
    "X_train = np.array([\n",
    "    [158,1],\n",
    "    [170,1],\n",
    "    [183,1],\n",
    "    [191,1],\n",
    "    [155,0],\n",
    "    [163,0],\n",
    "    [180,0],\n",
    "    [158,0],\n",
    "    [170,0]\n",
    "])  # 0为男性，1为女性\n",
    "y_train = [64, 86, 84, 80, 49, 59, 67, 54, 67]\n",
    "\n",
    "x_test = np.array([\n",
    "    [168,1],\n",
    "    [180,1],\n",
    "    [160,1],\n",
    "    [169,0]\n",
    "]) \n",
    "y_test = [65, 96, 52, 67]\n"
   ]
  },
  {
   "cell_type": "code",
   "execution_count": 20,
   "metadata": {},
   "outputs": [
    {
     "name": "stdout",
     "output_type": "stream",
     "text": [
      "Predicted weights: [70.66666667 79.         59.         70.66666667]\n",
      "Coefficient of determination: 0.6290565226735438\n",
      "Mean absolute error: 8.333333333333336\n",
      "Mean squared error: 95.8888888888889\n"
     ]
    }
   ],
   "source": [
    "K =3\n",
    "clf = KNeighborsRegressor(n_neighbors=K)  # 创建实例,确定K\n",
    "clf.fit(X_train,y_train)\n",
    "predictions = clf.predict(x_test)\n",
    "print('Predicted weights: %s' % predictions)  #  预测值\n",
    "print('Coefficient of determination: %s' % r2_score(y_test, predictions))  # 决定系数R^2\n",
    "print('Mean absolute error: %s' % mean_absolute_error(y_test, predictions))  # 预测结果 误差绝对值的均值 MAE\n",
    "print('Mean squared error: %s' % mean_squared_error(y_test, predictions))  # 均方偏差 MSE\n"
   ]
  },
  {
   "cell_type": "markdown",
   "metadata": {},
   "source": [
    "## 特征缩放"
   ]
  },
  {
   "cell_type": "markdown",
   "metadata": {},
   "source": [
    "特征缩放转换器————StandardScaler类， 确保所有的特征都有单位方差，即标准化数据（均值为0，反差为1）"
   ]
  },
  {
   "cell_type": "markdown",
   "metadata": {},
   "source": [
    "### 进行标准化前"
   ]
  },
  {
   "cell_type": "code",
   "execution_count": 21,
   "metadata": {},
   "outputs": [],
   "source": [
    "# 以微米为单位表示身高，身高特征对距离函数的影响会大大增加\n",
    "from scipy.spatial.distance import euclidean\n"
   ]
  },
  {
   "cell_type": "code",
   "execution_count": null,
   "metadata": {},
   "outputs": [],
   "source": [
    "X_train = np.array([\n",
    "    [1700,1],\n",
    "    [1600,0],\n",
    "])  # 0为男性，1为女性\n",
    "x_test = np.array([1640, 1]).reshape(1, -1) \n",
    "\n",
    "print(euclidean(X_train[0, :],x_test))\n",
    "print(euclidean(X_train[1, :],x_test))"
   ]
  },
  {
   "cell_type": "code",
   "execution_count": 25,
   "metadata": {},
   "outputs": [
    {
     "name": "stdout",
     "output_type": "stream",
     "text": [
      "Distance to male: 60.0\n",
      "Distance to female: 40.01249804748511\n"
     ]
    }
   ],
   "source": []
  },
  {
   "cell_type": "code",
   "execution_count": null,
   "metadata": {},
   "outputs": [],
   "source": []
  }
 ],
 "metadata": {
  "kernelspec": {
   "display_name": "base",
   "language": "python",
   "name": "python3"
  },
  "language_info": {
   "codemirror_mode": {
    "name": "ipython",
    "version": 3
   },
   "file_extension": ".py",
   "mimetype": "text/x-python",
   "name": "python",
   "nbconvert_exporter": "python",
   "pygments_lexer": "ipython3",
   "version": "3.11.5"
  }
 },
 "nbformat": 4,
 "nbformat_minor": 2
}
