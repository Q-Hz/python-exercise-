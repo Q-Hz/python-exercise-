{
 "cells": [
  {
   "cell_type": "markdown",
   "metadata": {},
   "source": [
    "# 多元分析\n",
    "    包括：回归分析、判别分析、主成分分析、因子分析、聚类分析"
   ]
  },
  {
   "cell_type": "markdown",
   "metadata": {
    "vscode": {
     "languageId": "plaintext"
    }
   },
   "source": [
    "## 判别分析    \n",
    "r类判别对象A_1到A_r;   \n",
    "每一类A_i 有m个指标何n_i个样本;   \n",
    "μ_i为第A_i类的样本均值向量；\n",
    "L_i为第A_i类的离差矩阵；\n",
    "\n",
    "问：判断对象x属于A_i的哪一类；      \n",
    "    判别规则：通过判别函数W（i，x）进行表达；   \n",
    "    判别方法：        \n",
    "        1.距离判别法：建立待判定对象x到A_i的距离d（x,A_i），根据距离最近的原则进行判别  （库：sklearn.neighbors模块的KNeighborsClassifier函数。）\n",
    "            \n",
    "           \n",
    "        "
   ]
  },
  {
   "cell_type": "markdown",
   "metadata": {},
   "source": [
    "### 库：sklearn.neighbors模块的KNeighborsClassifier函数\n",
    "调用格式：KNeihborsCLassfier(n_neighbors=5, weights='uniform', algorithm'='auto', leaf_size=30, p=2, metric='minkowski', metric_params=None)\n",
    "其中：\n",
    "    n_neighbors指定分类的类别数；     \n",
    "    algorithm的值可以为'auto', 'ball_tree', 'kd_tree', 'brute';     \n",
    "    metric：'euclidean'欧式距离，'manhattan'曼哈顿距离,'chebyshev'切比雪夫距离，'minkowski'闵可夫斯基距离，'wminkowski'带权重的闵可夫斯基距离,'seuclidean'标准化欧氏距离，'mahalanobis'马氏距离"
   ]
  },
  {
   "cell_type": "code",
   "execution_count": 2,
   "metadata": {},
   "outputs": [
    {
     "data": {
      "text/plain": [
       "array([1., 1., 1., 1., 1., 1., 1., 1., 1., 2., 2., 2., 2., 2., 2.])"
      ]
     },
     "execution_count": 2,
     "metadata": {},
     "output_type": "execute_result"
    }
   ],
   "source": [
    "# 例题11.1 蠓虫分类\n",
    "import numpy as np\n",
    "x = np.hstack([np.ones(9),2*np.ones(6)])\n",
    "x"
   ]
  }
 ],
 "metadata": {
  "kernelspec": {
   "display_name": "base",
   "language": "python",
   "name": "python3"
  },
  "language_info": {
   "codemirror_mode": {
    "name": "ipython",
    "version": 3
   },
   "file_extension": ".py",
   "mimetype": "text/x-python",
   "name": "python",
   "nbconvert_exporter": "python",
   "pygments_lexer": "ipython3",
   "version": "3.11.5"
  }
 },
 "nbformat": 4,
 "nbformat_minor": 2
}
