{
 "cells": [
  {
   "cell_type": "markdown",
   "metadata": {},
   "source": [
    "# 整数规划"
   ]
  },
  {
   "cell_type": "markdown",
   "metadata": {},
   "source": [
    "1.标准指派模型：0-1整数规划模型"
   ]
  },
  {
   "cell_type": "code",
   "execution_count": 5,
   "metadata": {},
   "outputs": [
    {
     "name": "stdout",
     "output_type": "stream",
     "text": [
      "最优值为： 34.0\n",
      "最优解为： [[0. 0. 1. 0. 0.]\n",
      " [0. 1. 0. 0. 0.]\n",
      " [1. 0. 0. 0. 0.]\n",
      " [0. 0. 0. 1. 0.]\n",
      " [0. 0. 0. 0. 1.]]\n"
     ]
    }
   ],
   "source": [
    "# 例题6.2\n",
    "import numpy as np\n",
    "import cvxpy as cp\n",
    "c = np.array([\n",
    "    [4,8,7,15,12],\n",
    "    [7,9,17,14,10],\n",
    "    [6,9,12,8,7],\n",
    "    [6,7,14,6,10],\n",
    "    [6,9,12,10,6]\n",
    "])\n",
    "x = cp.Variable((5,5),integer=True)\n",
    "obj = cp.Minimize(cp.sum(cp.multiply(c,x)))\n",
    "con = [0<=x,x<=1,\n",
    "       cp.sum(x,axis=0,keepdims=True) == 1,\n",
    "       cp.sum(x,axis=1,keepdims=True) == 1 ]\n",
    "prob = cp.Problem(obj,con)\n",
    "prob.solve(solver='GLPK_MI')\n",
    "print('最优值为：',prob.value)\n",
    "print('最优解为：',x.value)"
   ]
  },
  {
   "cell_type": "markdown",
   "metadata": {},
   "source": [
    "2.广义指派模型   \n",
    "1）最大化指派问题——化为标准型；    \n",
    "2）人数和任务数不等的指派问题——添加虚拟的“人”或者“任务”，使两者相等，但对应的效率为0；   \n",
    "3）一个人可完成多项任务的指派问题——将该人看作多个人；  \n",
    "4）某项任务一定不能由某人完成——将想要的效率值取足够小；     \n",
    "\n",
    "用软件求解广义指派模型，直接建立0-1整数规划模型，不需要划为标准型；"
   ]
  },
  {
   "cell_type": "code",
   "execution_count": null,
   "metadata": {},
   "outputs": [],
   "source": [
    "# 例题6.1.3 装箱问题\n",
    "# 1.装箱总厚度最大\n"
   ]
  }
 ],
 "metadata": {
  "kernelspec": {
   "display_name": "base",
   "language": "python",
   "name": "python3"
  },
  "language_info": {
   "codemirror_mode": {
    "name": "ipython",
    "version": 3
   },
   "file_extension": ".py",
   "mimetype": "text/x-python",
   "name": "python",
   "nbconvert_exporter": "python",
   "pygments_lexer": "ipython3",
   "version": "3.11.5"
  }
 },
 "nbformat": 4,
 "nbformat_minor": 2
}
