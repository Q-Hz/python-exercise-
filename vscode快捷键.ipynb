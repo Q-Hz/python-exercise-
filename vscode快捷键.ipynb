{
 "cells": [
  {
   "cell_type": "markdown",
   "metadata": {},
   "source": [
    "ctrl + w ： 关闭当前编辑器\n",
    "ctrl + \\ :  分割编辑器的快捷键 （先ctrl+k，再 ctrl+\\时垂直分割）"
   ]
  }
 ],
 "metadata": {
  "language_info": {
   "name": "python"
  }
 },
 "nbformat": 4,
 "nbformat_minor": 2
}
