{
 "cells": [
  {
   "cell_type": "markdown",
   "metadata": {},
   "source": [
    "# 整数规划"
   ]
  },
  {
   "cell_type": "markdown",
   "metadata": {},
   "source": [
    "1.标准指派模型：0-1整数规划模型"
   ]
  },
  {
   "cell_type": "code",
   "execution_count": 5,
   "metadata": {},
   "outputs": [
    {
     "name": "stdout",
     "output_type": "stream",
     "text": [
      "最优值为： 34.0\n",
      "最优解为： [[0. 0. 1. 0. 0.]\n",
      " [0. 1. 0. 0. 0.]\n",
      " [1. 0. 0. 0. 0.]\n",
      " [0. 0. 0. 1. 0.]\n",
      " [0. 0. 0. 0. 1.]]\n"
     ]
    }
   ],
   "source": [
    "# 例题6.2\n",
    "import numpy as np\n",
    "import cvxpy as cp\n",
    "c = np.array([\n",
    "    [4,8,7,15,12],\n",
    "    [7,9,17,14,10],\n",
    "    [6,9,12,8,7],\n",
    "    [6,7,14,6,10],\n",
    "    [6,9,12,10,6]\n",
    "])\n",
    "x = cp.Variable((5,5),integer=True)\n",
    "obj = cp.Minimize(cp.sum(cp.multiply(c,x)))\n",
    "con = [0<=x,x<=1,\n",
    "       cp.sum(x,axis=0,keepdims=True) == 1,\n",
    "       cp.sum(x,axis=1,keepdims=True) == 1 ]\n",
    "prob = cp.Problem(obj,con)\n",
    "prob.solve(solver='GLPK_MI')\n",
    "print('最优值为：',prob.value)\n",
    "print('最优解为：',x.value)"
   ]
  },
  {
   "cell_type": "markdown",
   "metadata": {},
   "source": [
    "2.广义指派模型   \n",
    "1）最大化指派问题——化为标准型；    \n",
    "2）人数和任务数不等的指派问题——添加虚拟的“人”或者“任务”，使两者相等，但对应的效率为0；   \n",
    "3）一个人可完成多项任务的指派问题——将该人看作多个人；  \n",
    "4）某项任务一定不能由某人完成——将想要的效率值取足够小；     \n",
    "\n",
    "用软件求解广义指派模型，直接建立0-1整数规划模型，不需要划为标准型；"
   ]
  },
  {
   "cell_type": "code",
   "execution_count": 4,
   "metadata": {},
   "outputs": [
    {
     "name": "stdout",
     "output_type": "stream",
     "text": [
      "===============================================================================\n",
      "                                     CVXPY                                     \n",
      "                                     v1.4.2                                    \n",
      "===============================================================================\n",
      "(CVXPY) Mar 17 08:04:52 PM: Your problem has 14 variables, 5 constraints, and 0 parameters.\n",
      "(CVXPY) Mar 17 08:04:52 PM: It is compliant with the following grammars: DCP, DQCP\n",
      "(CVXPY) Mar 17 08:04:52 PM: (If you need to solve this problem multiple times, but with different data, consider using parameters.)\n",
      "(CVXPY) Mar 17 08:04:52 PM: CVXPY will first compile your problem; then, it will invoke a numerical solver to obtain a solution.\n",
      "(CVXPY) Mar 17 08:04:52 PM: Your problem is compiled with the CPP canonicalization backend.\n",
      "-------------------------------------------------------------------------------\n",
      "                                  Compilation                                  \n",
      "-------------------------------------------------------------------------------\n",
      "(CVXPY) Mar 17 08:04:52 PM: Compiling problem (target solver=GLPK_MI).\n",
      "(CVXPY) Mar 17 08:04:52 PM: Reduction chain: FlipObjective -> Dcp2Cone -> CvxAttr2Constr -> ConeMatrixStuffing -> GLPK_MI\n",
      "(CVXPY) Mar 17 08:04:52 PM: Applying reduction FlipObjective\n",
      "(CVXPY) Mar 17 08:04:52 PM: Applying reduction Dcp2Cone\n",
      "(CVXPY) Mar 17 08:04:52 PM: Applying reduction CvxAttr2Constr\n",
      "(CVXPY) Mar 17 08:04:52 PM: Applying reduction ConeMatrixStuffing\n",
      "(CVXPY) Mar 17 08:04:52 PM: Applying reduction GLPK_MI\n",
      "(CVXPY) Mar 17 08:04:52 PM: Finished problem compilation (took 1.254e-02 seconds).\n",
      "-------------------------------------------------------------------------------\n",
      "                                Numerical solver                               \n",
      "-------------------------------------------------------------------------------\n",
      "(CVXPY) Mar 17 08:04:52 PM: Invoking solver GLPK_MI  to obtain a solution.\n"
     ]
    },
    {
     "name": "stderr",
     "output_type": "stream",
     "text": [
      "d:\\anaconda\\Lib\\site-packages\\cvxpy\\expressions\\expression.py:621: UserWarning: \n",
      "This use of ``*`` has resulted in matrix multiplication.\n",
      "Using ``*`` for matrix multiplication has been deprecated since CVXPY 1.1.\n",
      "    Use ``*`` for matrix-scalar and vector-scalar multiplication.\n",
      "    Use ``@`` for matrix-matrix and matrix-vector multiplication.\n",
      "    Use ``multiply`` for elementwise multiplication.\n",
      "This code path has been hit 4 times so far.\n",
      "\n",
      "  warnings.warn(msg, UserWarning)\n",
      "d:\\anaconda\\Lib\\site-packages\\cvxpy\\expressions\\expression.py:621: UserWarning: \n",
      "This use of ``*`` has resulted in matrix multiplication.\n",
      "Using ``*`` for matrix multiplication has been deprecated since CVXPY 1.1.\n",
      "    Use ``*`` for matrix-scalar and vector-scalar multiplication.\n",
      "    Use ``@`` for matrix-matrix and matrix-vector multiplication.\n",
      "    Use ``multiply`` for elementwise multiplication.\n",
      "This code path has been hit 5 times so far.\n",
      "\n",
      "  warnings.warn(msg, UserWarning)\n",
      "d:\\anaconda\\Lib\\site-packages\\cvxpy\\expressions\\expression.py:621: UserWarning: \n",
      "This use of ``*`` has resulted in matrix multiplication.\n",
      "Using ``*`` for matrix multiplication has been deprecated since CVXPY 1.1.\n",
      "    Use ``*`` for matrix-scalar and vector-scalar multiplication.\n",
      "    Use ``@`` for matrix-matrix and matrix-vector multiplication.\n",
      "    Use ``multiply`` for elementwise multiplication.\n",
      "This code path has been hit 6 times so far.\n",
      "\n",
      "  warnings.warn(msg, UserWarning)\n",
      "d:\\anaconda\\Lib\\site-packages\\cvxpy\\expressions\\expression.py:621: UserWarning: \n",
      "This use of ``*`` has resulted in matrix multiplication.\n",
      "Using ``*`` for matrix multiplication has been deprecated since CVXPY 1.1.\n",
      "    Use ``*`` for matrix-scalar and vector-scalar multiplication.\n",
      "    Use ``@`` for matrix-matrix and matrix-vector multiplication.\n",
      "    Use ``multiply`` for elementwise multiplication.\n",
      "This code path has been hit 7 times so far.\n",
      "\n",
      "  warnings.warn(msg, UserWarning)\n"
     ]
    },
    {
     "name": "stdout",
     "output_type": "stream",
     "text": [
      "-------------------------------------------------------------------------------\n",
      "                                    Summary                                    \n",
      "-------------------------------------------------------------------------------\n",
      "(CVXPY) Mar 17 08:04:53 PM: Problem status: optimal\n",
      "(CVXPY) Mar 17 08:04:53 PM: Optimal value: 2.039e+03\n",
      "(CVXPY) Mar 17 08:04:53 PM: Compilation took 1.254e-02 seconds\n",
      "(CVXPY) Mar 17 08:04:53 PM: Solver (including time spent in interface) took 8.480e-01 seconds\n",
      "最有值为： 2039.4\n",
      "最优解为:  [[4. 1. 5. 3. 3. 2. 0.]\n",
      " [4. 6. 4. 3. 0. 1. 0.]]\n"
     ]
    }
   ],
   "source": [
    "# 例题6.1.3 装箱问题\n",
    "# 1.装箱总厚度最大\n",
    "'''\n",
    "决策变量x_ij(i=1,2;j=1,2,...,7)表示第i辆车装第j种包装箱的件数;\n",
    "L_j,w_j,a_j(j=1,2...,7)表示第j种包装箱的厚度、重量和件数;\n",
    "'''\n",
    "\n",
    "'''\n",
    "约束条件：\n",
    "1. 件数限制 2.长度限制 3.重量限制 4.特殊限制(题目中提到的第5,6,7种有特殊的厚的限制)\n",
    "目标函数：\n",
    "最大化装箱的总厚度\n",
    "'''\n",
    "\n",
    "import cvxpy as cp\n",
    "import numpy as np\n",
    "\n",
    "L = np.array([48.7,52.0,61.3,72.0,48.7,52.0,64.0])\n",
    "w = np.array([2000,3000,1000,500,4000,2000,1000])\n",
    "a = np.array([8,7,9,6,6,4,8])\n",
    "x = cp.Variable((2,7),integer=True)\n",
    "\n",
    "obj = cp.Maximize(cp.sum(x*L))\n",
    "con  = [cp.sum(x,axis=0,keepdims=True) <= a.reshape(1,7),\n",
    "        x * L <=1020,\n",
    "        x * w <= 40000,\n",
    "        cp.sum(x[:,4:] * L[4:]) <= 302.7,\n",
    "        x >=0]\n",
    "prob = cp.Problem(obj,con)\n",
    "prob.solve(solver='GLPK_MI',verbose=True)\n",
    "print('最有值为：',prob.value)\n",
    "print('最优解为: ',x.value)"
   ]
  },
  {
   "cell_type": "code",
   "execution_count": 11,
   "metadata": {},
   "outputs": [
    {
     "name": "stdout",
     "output_type": "stream",
     "text": [
      "===============================================================================\n",
      "                                     CVXPY                                     \n",
      "                                     v1.4.2                                    \n",
      "===============================================================================\n",
      "(CVXPY) Mar 17 09:36:58 PM: Your problem has 14 variables, 5 constraints, and 0 parameters.\n",
      "(CVXPY) Mar 17 09:36:58 PM: It is compliant with the following grammars: DCP, DQCP\n",
      "(CVXPY) Mar 17 09:36:58 PM: (If you need to solve this problem multiple times, but with different data, consider using parameters.)\n",
      "(CVXPY) Mar 17 09:36:58 PM: CVXPY will first compile your problem; then, it will invoke a numerical solver to obtain a solution.\n",
      "(CVXPY) Mar 17 09:36:58 PM: Your problem is compiled with the CPP canonicalization backend.\n",
      "-------------------------------------------------------------------------------\n",
      "                                  Compilation                                  \n",
      "-------------------------------------------------------------------------------\n",
      "(CVXPY) Mar 17 09:36:58 PM: Compiling problem (target solver=GLPK_MI).\n",
      "(CVXPY) Mar 17 09:36:58 PM: Reduction chain: FlipObjective -> Dcp2Cone -> CvxAttr2Constr -> ConeMatrixStuffing -> GLPK_MI\n",
      "(CVXPY) Mar 17 09:36:58 PM: Applying reduction FlipObjective\n",
      "(CVXPY) Mar 17 09:36:58 PM: Applying reduction Dcp2Cone\n",
      "(CVXPY) Mar 17 09:36:58 PM: Applying reduction CvxAttr2Constr\n",
      "(CVXPY) Mar 17 09:36:58 PM: Applying reduction ConeMatrixStuffing\n",
      "(CVXPY) Mar 17 09:36:58 PM: Applying reduction GLPK_MI\n",
      "(CVXPY) Mar 17 09:36:58 PM: Finished problem compilation (took 1.521e-02 seconds).\n",
      "-------------------------------------------------------------------------------\n",
      "                                Numerical solver                               \n",
      "-------------------------------------------------------------------------------\n",
      "(CVXPY) Mar 17 09:36:58 PM: Invoking solver GLPK_MI  to obtain a solution.\n",
      "-------------------------------------------------------------------------------\n",
      "                                    Summary                                    \n",
      "-------------------------------------------------------------------------------\n",
      "(CVXPY) Mar 17 09:36:58 PM: Problem status: optimal\n",
      "(CVXPY) Mar 17 09:36:58 PM: Optimal value: 7.300e+04\n",
      "(CVXPY) Mar 17 09:36:58 PM: Compilation took 1.521e-02 seconds\n",
      "(CVXPY) Mar 17 09:36:58 PM: Solver (including time spent in interface) took 1.039e-03 seconds\n",
      "最有值为： 73000.0\n",
      "最优解为:  [[6. 0. 0. 6. 6. 0. 0.]\n",
      " [2. 7. 9. 0. 0. 0. 0.]]\n"
     ]
    },
    {
     "name": "stderr",
     "output_type": "stream",
     "text": [
      "d:\\anaconda\\Lib\\site-packages\\cvxpy\\expressions\\expression.py:621: UserWarning: \n",
      "This use of ``*`` has resulted in matrix multiplication.\n",
      "Using ``*`` for matrix multiplication has been deprecated since CVXPY 1.1.\n",
      "    Use ``*`` for matrix-scalar and vector-scalar multiplication.\n",
      "    Use ``@`` for matrix-matrix and matrix-vector multiplication.\n",
      "    Use ``multiply`` for elementwise multiplication.\n",
      "This code path has been hit 1 times so far.\n",
      "\n",
      "  warnings.warn(msg, UserWarning)\n",
      "d:\\anaconda\\Lib\\site-packages\\cvxpy\\expressions\\expression.py:621: UserWarning: \n",
      "This use of ``*`` has resulted in matrix multiplication.\n",
      "Using ``*`` for matrix multiplication has been deprecated since CVXPY 1.1.\n",
      "    Use ``*`` for matrix-scalar and vector-scalar multiplication.\n",
      "    Use ``@`` for matrix-matrix and matrix-vector multiplication.\n",
      "    Use ``multiply`` for elementwise multiplication.\n",
      "This code path has been hit 2 times so far.\n",
      "\n",
      "  warnings.warn(msg, UserWarning)\n",
      "d:\\anaconda\\Lib\\site-packages\\cvxpy\\expressions\\expression.py:621: UserWarning: \n",
      "This use of ``*`` has resulted in matrix multiplication.\n",
      "Using ``*`` for matrix multiplication has been deprecated since CVXPY 1.1.\n",
      "    Use ``*`` for matrix-scalar and vector-scalar multiplication.\n",
      "    Use ``@`` for matrix-matrix and matrix-vector multiplication.\n",
      "    Use ``multiply`` for elementwise multiplication.\n",
      "This code path has been hit 3 times so far.\n",
      "\n",
      "  warnings.warn(msg, UserWarning)\n",
      "d:\\anaconda\\Lib\\site-packages\\cvxpy\\expressions\\expression.py:621: UserWarning: \n",
      "This use of ``*`` has resulted in matrix multiplication.\n",
      "Using ``*`` for matrix multiplication has been deprecated since CVXPY 1.1.\n",
      "    Use ``*`` for matrix-scalar and vector-scalar multiplication.\n",
      "    Use ``@`` for matrix-matrix and matrix-vector multiplication.\n",
      "    Use ``multiply`` for elementwise multiplication.\n",
      "This code path has been hit 4 times so far.\n",
      "\n",
      "  warnings.warn(msg, UserWarning)\n"
     ]
    }
   ],
   "source": [
    "# 例题6.1.3 装箱问题\n",
    "# 2.装箱总重量最大\n",
    "'''\n",
    "决策变量x_ij(i=1,2;j=1,2,...,7)表示第i辆车装第j种包装箱的件数;\n",
    "L_j,w_j,a_j(j=1,2...,7)表示第j种包装箱的厚度、重量和件数;\n",
    "'''\n",
    "\n",
    "'''\n",
    "约束条件：\n",
    "1. 件数限制 2.长度限制 3.重量限制 4.特殊限制(题目中提到的第5,6,7种有特殊的厚的限制)\n",
    "目标函数：\n",
    "最大化装箱的总厚度\n",
    "'''\n",
    "\n",
    "import cvxpy as cp\n",
    "import numpy as np\n",
    "\n",
    "L = np.array([48.7,52.0,61.3,72.0,48.7,52.0,64.0])\n",
    "w = np.array([2000,3000,1000,500,4000,2000,1000])\n",
    "a = np.array([8,7,9,6,6,4,8])\n",
    "x = cp.Variable((2,7),integer=True)\n",
    "\n",
    "obj = cp.Maximize(cp.sum(x*w))\n",
    "con  = [cp.sum(x,axis=0,keepdims=True) <= a.reshape(1,7),\n",
    "        x * L <=1020,\n",
    "        x * w <= 40000,\n",
    "        cp.sum(x[:,4:] * L[4:]) <= 302.7,\n",
    "        x >=0]\n",
    "prob = cp.Problem(obj,con)\n",
    "prob.solve(solver='GLPK_MI',verbose=True)\n",
    "print('最有值为：',prob.value)\n",
    "print('最优解为: ',x.value)"
   ]
  },
  {
   "cell_type": "markdown",
   "metadata": {},
   "source": [
    "# 非线性规划\n"
   ]
  },
  {
   "cell_type": "markdown",
   "metadata": {},
   "source": [
    "分类：无约束线性规划、有约束线性规划（等式约束[largrange乘法]、不等式约束[罚函数法]）     \n",
    "\n",
    "求解方法： scipy.optimize,cvxopt,cvxpy\n"
   ]
  },
  {
   "cell_type": "markdown",
   "metadata": {},
   "source": [
    "## 用scipy.optimze 求解"
   ]
  },
  {
   "cell_type": "code",
   "execution_count": 10,
   "metadata": {},
   "outputs": [
    {
     "name": "stdout",
     "output_type": "stream",
     "text": [
      "最优值： -0.7736842105263159\n",
      "状态： True\n",
      "最优解： [0.9 0.9 0.1]\n"
     ]
    }
   ],
   "source": [
    "# 例题6.4\n",
    "from scipy.optimize import minimize \n",
    "from numpy import ones\n",
    "\n",
    "def obj(x):\n",
    "    x1, x2, x3 = x \n",
    "    return (2+x1)/(1+x2)-3*x1+4*x3\n",
    "LB = [0.1]*3; UB = [0.9]*3\n",
    "bound = tuple(zip(LB,UB))  # ((0.1, 0.9), (0.1, 0.9), (0.1, 0.9))\n",
    "res = minimize(obj,ones(3),bounds=bound)  # minimize函数是调用执行的主要函数，它接受目标函数obj，初始值ones(3)，以及bounds参数. \n",
    "                                          # 这个初始猜测对优化过程的速度和结果可能有影响。一个好的初始猜测可以帮助优化算法更快地收敛到最优解。\n",
    "print('最优值：',res.fun) \n",
    "print('状态：',res.success)\n",
    "print('最优解：',res.x)"
   ]
  },
  {
   "cell_type": "markdown",
   "metadata": {},
   "source": [
    "## 用cvxopt.solvers 求解"
   ]
  },
  {
   "cell_type": "code",
   "execution_count": null,
   "metadata": {},
   "outputs": [],
   "source": []
  },
  {
   "cell_type": "markdown",
   "metadata": {},
   "source": [
    "## 用cvxpy求解"
   ]
  },
  {
   "cell_type": "code",
   "execution_count": 45,
   "metadata": {},
   "outputs": [
    {
     "name": "stdout",
     "output_type": "stream",
     "text": [
      "最优解： [4.00000052e+00 9.99995441e-01 4.78922535e-12 4.02352057e-12\n",
      " 1.00000000e+00]\n",
      "最优值:  -16.999999999538367\n"
     ]
    },
    {
     "name": "stderr",
     "output_type": "stream",
     "text": [
      "d:\\anaconda\\Lib\\site-packages\\cvxpy\\expressions\\expression.py:621: UserWarning: \n",
      "This use of ``*`` has resulted in matrix multiplication.\n",
      "Using ``*`` for matrix multiplication has been deprecated since CVXPY 1.1.\n",
      "    Use ``*`` for matrix-scalar and vector-scalar multiplication.\n",
      "    Use ``@`` for matrix-matrix and matrix-vector multiplication.\n",
      "    Use ``multiply`` for elementwise multiplication.\n",
      "This code path has been hit 29 times so far.\n",
      "\n",
      "  warnings.warn(msg, UserWarning)\n",
      "d:\\anaconda\\Lib\\site-packages\\cvxpy\\expressions\\expression.py:621: UserWarning: \n",
      "This use of ``*`` has resulted in matrix multiplication.\n",
      "Using ``*`` for matrix multiplication has been deprecated since CVXPY 1.1.\n",
      "    Use ``*`` for matrix-scalar and vector-scalar multiplication.\n",
      "    Use ``@`` for matrix-matrix and matrix-vector multiplication.\n",
      "    Use ``multiply`` for elementwise multiplication.\n",
      "This code path has been hit 30 times so far.\n",
      "\n",
      "  warnings.warn(msg, UserWarning)\n"
     ]
    }
   ],
   "source": [
    "import cvxpy as cp\n",
    "import numpy as np\n",
    "\n",
    "c1 = np.array([1,1,3,4,2])\n",
    "c2 = np.array([8,2,3,1,2])\n",
    "c2 = -1 * c2\n",
    "A = np.array([[1,1,1,1,1], [1,2,2,1,6], [2,1,6,0,0], [0,0,1,1,5]])\n",
    "b = np.array([400,800,200,200])\n",
    "x = cp.Variable(5, integer=True)\n",
    "\n",
    "obj = cp.Minimize(c1*x**2 + c2*x)\n",
    "con = [0 <= x, x <= 99, A@x <= b]\n",
    "prob = cp.Problem(obj, con)\n",
    "\n",
    "# 尝试使用ECOS_BB求解器\n",
    "prob.solve(solver=cp.ECOS_BB)\n",
    "print('最优解：', x.value)\n",
    "print('最优值: ', prob.value)\n"
   ]
  },
  {
   "cell_type": "code",
   "execution_count": 12,
   "metadata": {},
   "outputs": [],
   "source": [
    "# 6.2.3飞行管理问题\n",
    "'''\n",
    "目标函数： 以所有飞机的调整量的绝对值之和最小\n",
    "'''\n",
    "\n",
    "'''\n",
    "a 为飞机飞行速度, a = 800 km/h;\n",
    "(x_i^0,y_i^0) 为第i架飞机的初始位置,i=1,...,6;i=6为新进入的飞机;\n",
    "(x_i(t),y_i(t))为第i架飞机在t时刻的位置;\n",
    "θ_i^0为第i架飞机原飞行方向角,即飞行方向与x轴的夹角,0<= θ_i^0 < 2Π;\n",
    "Δθ_i为第i架飞机的方向调整量: -Π/6 <= Δθ_i <= Π/6;\n",
    "θ_i = θ_i^0 + Δθ_i 第i架飞机调整后的飞行方向角;\n",
    "'''\n",
    "# 求得a_ij^0 和 β_ij^0 的值\n",
    "import numpy as np \n",
    "import pandas as pd \n",
    "x0 = np.array([150,85,150,145,130,0])\n",
    "y0 = np.array([140,85,155,50,150,0])\n",
    "q = np.array([243,236,220.5,159,230,52])\n",
    "d = np.zeros((6,6))\n",
    "a0 = np.zeros((6,6))\n",
    "b0 = np.zeros((6,6))\n",
    "xy0 = np.c_[x0,y0]\n",
    " \n",
    "for i in range(6):\n",
    "    for j in range(6): \n",
    "        d[i,j] = np.linalg.norm(xy0[i] - xy0[j])\n",
    "d[np.where(d==0)] = np.inf\n",
    "a0  =np.arcsin(8./d) * 180 / np.pi\n",
    "xy1 = x0 + 1j* y0\n",
    "xy2 = np.exp(1j * q * np.pi / 180)\n",
    "\n",
    "for m in range(6):\n",
    "    for n in range(6):\n",
    "        if n != m:\n",
    "            b0[m,n] = np.angle((xy2[n]-xy2[m]) / (xy1[m]-xy1[n]))\n",
    "b0 = b0 * 180 / np.pi\n",
    "f = pd.ExcelWriter('pan6_1.xlsx') # 创建文件对象\n",
    "pd.DataFrame(a0).to_excel(f,\"sheet1\",index=None) # 把a0写入表单1\n",
    "pd.DataFrame(b0).to_excel(f,\"sheet2\",index=None) # 把b0写入表单2\n",
    "f.close()"
   ]
  },
  {
   "cell_type": "code",
   "execution_count": 24,
   "metadata": {},
   "outputs": [
    {
     "name": "stdout",
     "output_type": "stream",
     "text": [
      " message: Optimization terminated successfully\n",
      " success: True\n",
      "  status: 0\n",
      "     fun: 0.7909172985328354\n",
      "       x: [ 2.533e-07  2.533e-07  2.533e-07  2.533e-07  3.955e-01\n",
      "            3.955e-01]\n",
      "     nit: 6\n",
      "     jac: [-1.000e+00 -1.000e+00 -1.000e+00 -1.000e+00  1.000e+00\n",
      "            1.000e+00]\n",
      "    nfev: 54\n",
      "    njev: 6\n"
     ]
    }
   ],
   "source": [
    "import numpy as np \n",
    "import pandas as pd \n",
    "from scipy.optimize import minimize\n",
    "a0 = pd.read_excel('pan6_1.xlsx') # 读取第一个表单\n",
    "b0 = pd.read_excel('pan6_1.xlsx',1) # 读取第二个表单\n",
    "a0 = a0.values; b0 = b0.values\n",
    "\n",
    "obj = lambda x: np.sum(np.abs(x))\n",
    "bound = [(-30,30) for i in range(6)]\n",
    "x0 = np.ones(6)\n",
    "cons = []\n",
    "for i in range(5):\n",
    "    for j in range(i+1,6):\n",
    "        # 可能会有闭包延迟问题？？?\n",
    "        cons.append({'type':'ineq','fun':lambda x: np.abs(b0[i,j] + (x[i]+x[j])/2) - a0[i,j]})\n",
    "res = minimize(obj,x0,constraints=cons,bounds=bound)\n",
    "print(res) \n"
   ]
  },
  {
   "cell_type": "code",
   "execution_count": 31,
   "metadata": {},
   "outputs": [
    {
     "name": "stdout",
     "output_type": "stream",
     "text": [
      "最优值： 410.0\n",
      "最优解： [1. 0. 0. 1. 1.]\n"
     ]
    }
   ],
   "source": [
    "# 习题6.1\n",
    "'''\n",
    "https://blog.csdn.net/m0_66354975/article/details/126144211 答案网址\n",
    "目标函数：投资收益最大\n",
    "约束条件：\n",
    "        1.共600百万投资资金\n",
    "        2.项目1,2,3有且仅有一项被选\n",
    "        3.项目3和项目4只能被选一项\n",
    "        4.项目5被选的前提是项目1被选 \n",
    "'''\n",
    "import numpy as np\n",
    "import cvxpy as cp\n",
    "c = np.array([150,210,60,80,180])\n",
    "b = np.array([210,300,100,130,260])\n",
    "x = cp.Variable(5,integer=True)\n",
    "obj = cp.Maximize(c @ x)\n",
    "cons = [b @ x <=600,\n",
    "        x[0] + x[1] + x[2] == 1,\n",
    "        x[2] + x[3] <= 1,\n",
    "        x[4] <= x[0],\n",
    "        x >=0, x <= 1 ]\n",
    "prob = cp.Problem(obj,cons)\n",
    "prob.solve()\n",
    "print('最优值：',prob.value)\n",
    "print('最优解：',x.value)"
   ]
  },
  {
   "cell_type": "code",
   "execution_count": 48,
   "metadata": {},
   "outputs": [
    {
     "name": "stdout",
     "output_type": "stream",
     "text": [
      "最优值： 10.0\n",
      "最优解： [1. 0. 0. 1. 0. 1.]\n"
     ]
    }
   ],
   "source": [
    "# 习题6.2\n",
    "import numpy as np\n",
    "import cvxpy as cp\n",
    "\n",
    "x = cp.Variable(6,integer=True)\n",
    "c = np.array([3,5,2,4,2,3])\n",
    "A = np.array([8,13,6,9,5,7])\n",
    "obj = cp.Maximize(c @ x)\n",
    "cons = [cp.sum(cp.multiply(A,x)) <= 24,\n",
    "        x <= 1,\n",
    "        x >= 0]\n",
    "prob = cp.Problem(obj,cons)\n",
    "prob.solve()\n",
    "print('最优值：',prob.value)\n",
    "print('最优解：',x.value)"
   ]
  },
  {
   "cell_type": "code",
   "execution_count": 58,
   "metadata": {},
   "outputs": [
    {
     "name": "stdout",
     "output_type": "stream",
     "text": [
      "最早离开时间： 155.0 分钟后\n",
      "同学 1 在阶段 1 的面试结束时间： 0.0\n",
      "同学 1 在阶段 2 的面试结束时间： 14.0\n",
      "同学 1 在阶段 3 的面试结束时间： 30.0\n",
      "同学 2 在阶段 1 的面试结束时间： 51.0\n",
      "同学 2 在阶段 2 的面试结束时间： 70.0\n",
      "同学 2 在阶段 3 的面试结束时间： 87.0\n",
      "同学 3 在阶段 1 的面试结束时间： 97.0\n",
      "同学 3 在阶段 2 的面试结束时间： 107.0\n",
      "同学 3 在阶段 3 的面试结束时间： 122.0\n",
      "同学 4 在阶段 1 的面试结束时间： 134.0\n",
      "同学 4 在阶段 2 的面试结束时间： 143.0\n",
      "同学 4 在阶段 3 的面试结束时间： 155.0\n"
     ]
    }
   ],
   "source": [
    "# 后一个同学的面试在前一个同学完成所有面试后才能开始\n",
    "import cvxpy as cp\n",
    "\n",
    "# 面试所需的时间\n",
    "times = [\n",
    "    [14, 16, 21],  # 甲\n",
    "    [19, 17, 10],  # 乙\n",
    "    [10, 15, 12],  # 丙\n",
    "    [9, 12, 13]    # 丁\n",
    "]\n",
    "\n",
    "n = len(times)  # 同学的数量\n",
    "m = len(times[0])  # 面试阶段的数量\n",
    "\n",
    "# 决策变量，x[i][j] 表示第 i 个同学完成第 j 阶段面试的时间\n",
    "x = cp.Variable((n, m), integer=True)\n",
    "\n",
    "# 目标是最小化最晚的面试完成时间 (此处cp.max得到的是21)\n",
    "objective = cp.Minimize(cp.max(x[:, -1]))\n",
    "\n",
    "# 约束条件\n",
    "constraints = []\n",
    "\n",
    "# 同学的面试顺序必须相同，不能插队，且需按顺序进行面试\n",
    "for i in range(n):\n",
    "    for j in range(1, m):\n",
    "        constraints.append(x[i, j] >= x[i, j-1] + times[i][j-1])\n",
    "\n",
    "# 后一个同学的面试在前一个同学完成所有面试后才能开始\n",
    "for i in range(1, n):\n",
    "    constraints.append(x[i, 0] >= x[i-1, -1] + times[i-1][-1])\n",
    "\n",
    "# 面试开始时间不能早于8:00（假设8:00为0时刻）\n",
    "constraints.append(x >= 0)\n",
    "\n",
    "# 解决问题\n",
    "problem = cp.Problem(objective, constraints)\n",
    "problem.solve(solver=cp.GLPK_MI)\n",
    "\n",
    "\n",
    "# 输出结果\n",
    "print(\"最早离开时间：\", problem.value, \"分钟后\")\n",
    "for i in range(n):\n",
    "    for j in range(m):\n",
    "        print(f\"同学 {i+1} 在阶段 {j+1} 的面试结束时间：\", x[i, j].value)"
   ]
  },
  {
   "cell_type": "code",
   "execution_count": 59,
   "metadata": {},
   "outputs": [
    {
     "name": "stdout",
     "output_type": "stream",
     "text": [
      "最早离开时间： 51.0 分钟后\n",
      "同学 1 在阶段 1 的面试开始时间： 0.0\n",
      "同学 1 在阶段 2 的面试开始时间： 14.0\n",
      "同学 1 在阶段 3 的面试开始时间： 30.0\n",
      "同学 2 在阶段 1 的面试开始时间： 0.0\n",
      "同学 2 在阶段 2 的面试开始时间： 19.0\n",
      "同学 2 在阶段 3 的面试开始时间： 36.0\n",
      "同学 3 在阶段 1 的面试开始时间： 0.0\n",
      "同学 3 在阶段 2 的面试开始时间： 10.0\n",
      "同学 3 在阶段 3 的面试开始时间： 25.0\n",
      "同学 4 在阶段 1 的面试开始时间： 0.0\n",
      "同学 4 在阶段 2 的面试开始时间： 9.0\n",
      "同学 4 在阶段 3 的面试开始时间： 21.0\n"
     ]
    }
   ],
   "source": [
    "import cvxpy as cp\n",
    "\n",
    "# 面试所需的时间\n",
    "times = [\n",
    "    [14, 16, 21],  # 甲\n",
    "    [19, 17, 10],  # 乙\n",
    "    [10, 15, 12],  # 丙\n",
    "    [9, 12, 13]    # 丁\n",
    "]\n",
    "\n",
    "n = len(times)  # 同学的数量\n",
    "m = len(times[0])  # 面试阶段的数量\n",
    "\n",
    "# 决策变量，x[i][j] 表示第 i 个同学在第 j 阶段的面试开始时间\n",
    "x = cp.Variable((n, m), integer=True)\n",
    "\n",
    "# 构造面试结束时间的向量表达式\n",
    "end_times = cp.hstack([x[i, m-1] + times[i][m-1] for i in range(n)])\n",
    "\n",
    "# 目标是最小化最晚的面试完成时间\n",
    "objective = cp.Minimize(cp.max(end_times))\n",
    "\n",
    "# 约束条件\n",
    "constraints = []\n",
    "\n",
    "# 同学的面试顺序必须相同，不能插队，且需按顺序进行面试\n",
    "for i in range(n):\n",
    "    for j in range(1, m):\n",
    "        constraints.append(x[i, j] >= x[i, j-1] + times[i][j-1])\n",
    "\n",
    "# 面试开始时间不能早于8:00（假设8:00为0时刻）\n",
    "constraints.append(x >= 0)\n",
    "\n",
    "# 解决问题\n",
    "problem = cp.Problem(objective, constraints)\n",
    "problem.solve(solver=cp.GLPK_MI)\n",
    "\n",
    "# 输出结果\n",
    "print(\"最早离开时间：\", problem.value, \"分钟后\")\n",
    "for i in range(n):\n",
    "    for j in range(m):\n",
    "        print(f\"同学 {i+1} 在阶段 {j+1} 的面试开始时间：\", x[i, j].value)\n",
    "\n"
   ]
  },
  {
   "cell_type": "code",
   "execution_count": 1,
   "metadata": {},
   "outputs": [
    {
     "name": "stdout",
     "output_type": "stream",
     "text": [
      "最早离开时间： 51.0 分钟后\n",
      "同学 1 在阶段 1 的面试结束时间： 21.0\n",
      "同学 1 在阶段 2 的面试结束时间： 35.0\n",
      "同学 1 在阶段 3 的面试结束时间： 51.0\n",
      "同学 2 在阶段 1 的面试结束时间： 10.0\n",
      "同学 2 在阶段 2 的面试结束时间： 29.0\n",
      "同学 2 在阶段 3 的面试结束时间： 46.0\n",
      "同学 3 在阶段 1 的面试结束时间： 12.0\n",
      "同学 3 在阶段 2 的面试结束时间： 22.0\n",
      "同学 3 在阶段 3 的面试结束时间： 37.0\n",
      "同学 4 在阶段 1 的面试结束时间： 13.0\n",
      "同学 4 在阶段 2 的面试结束时间： 22.0\n",
      "同学 4 在阶段 3 的面试结束时间： 34.0\n"
     ]
    }
   ],
   "source": [
    "import cvxpy as cp\n",
    "\n",
    "# 面试所需的时间\n",
    "times = [\n",
    "    [14, 16, 21],  # 甲\n",
    "    [19, 17, 10],  # 乙\n",
    "    [10, 15, 12],  # 丙\n",
    "    [9, 12, 13]    # 丁\n",
    "]\n",
    "\n",
    "n = len(times)  # 同学的数量\n",
    "m = len(times[0])  # 面试阶段的数量\n",
    "\n",
    "# 决策变量，x[i][j] 表示第 i 个同学在第 j 阶段的面试结束时间\n",
    "x = cp.Variable((n, m), integer=True)\n",
    "\n",
    "# 目标是最小化最晚的面试结束时间\n",
    "objective = cp.Minimize(cp.max(x))\n",
    "\n",
    "# 约束条件\n",
    "constraints = [x >= 0]  # 面试时间不能为负\n",
    "\n",
    "for i in range(n):\n",
    "    for j in range(m):\n",
    "        # 同一同学的面试需要按顺序进行\n",
    "        if j > 0:\n",
    "            constraints.append(x[i, j] >= x[i, j-1] + times[i][j-1]) \n",
    "        else:\n",
    "            constraints.append(x[i, j] >= times[i][j-1])  # 第一阶段面试的开始时间\n",
    "\n",
    "# 解决问题\n",
    "problem = cp.Problem(objective, constraints)\n",
    "problem.solve(solver=cp.GLPK_MI)\n",
    "\n",
    "# 输出结果\n",
    "print(\"最早离开时间：\", problem.value, \"分钟后\")\n",
    "for i in range(n):\n",
    "    for j in range(m):\n",
    "        print(f\"同学 {i+1} 在阶段 {j+1} 的面试结束时间：\", x[i, j].value)\n"
   ]
  }
 ],
 "metadata": {
  "kernelspec": {
   "display_name": "base",
   "language": "python",
   "name": "python3"
  },
  "language_info": {
   "codemirror_mode": {
    "name": "ipython",
    "version": 3
   },
   "file_extension": ".py",
   "mimetype": "text/x-python",
   "name": "python",
   "nbconvert_exporter": "python",
   "pygments_lexer": "ipython3",
   "version": "3.11.5"
  }
 },
 "nbformat": 4,
 "nbformat_minor": 2
}
